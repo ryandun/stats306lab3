{
  "nbformat": 4,
  "nbformat_minor": 0,
  "metadata": {
    "kernelspec": {
      "display_name": "R",
      "language": "R",
      "name": "ir"
    },
    "language_info": {
      "codemirror_mode": "r",
      "file_extension": ".r",
      "mimetype": "text/x-r-source",
      "name": "R",
      "pygments_lexer": "r",
      "version": "3.6.1"
    },
    "colab": {
      "name": "stats306_lab7_empty.ipynb",
      "provenance": [],
      "collapsed_sections": []
    }
  },
  "cells": [
    {
      "cell_type": "markdown",
      "metadata": {
        "id": "yP0WQtYKa0dO"
      },
      "source": [
        "# Lab 9: Missing Values and Cleaning Messy Data"
      ]
    },
    {
      "cell_type": "code",
      "metadata": {
        "colab": {
          "base_uri": "https://localhost:8080/"
        },
        "id": "UiMH64Mea0da",
        "outputId": "9c4d075c-bb03-4fc8-e35e-9f95fb738269"
      },
      "source": [
        "library(tidyverse)"
      ],
      "execution_count": 1,
      "outputs": [
        {
          "output_type": "stream",
          "text": [
            "Warning message in system(\"timedatectl\", intern = TRUE):\n",
            "“running command 'timedatectl' had status 1”\n",
            "── \u001b[1mAttaching packages\u001b[22m ─────────────────────────────────────── tidyverse 1.3.0 ──\n",
            "\n",
            "\u001b[32m✔\u001b[39m \u001b[34mggplot2\u001b[39m 3.3.3     \u001b[32m✔\u001b[39m \u001b[34mpurrr  \u001b[39m 0.3.4\n",
            "\u001b[32m✔\u001b[39m \u001b[34mtibble \u001b[39m 3.1.0     \u001b[32m✔\u001b[39m \u001b[34mdplyr  \u001b[39m 1.0.5\n",
            "\u001b[32m✔\u001b[39m \u001b[34mtidyr  \u001b[39m 1.1.3     \u001b[32m✔\u001b[39m \u001b[34mstringr\u001b[39m 1.4.0\n",
            "\u001b[32m✔\u001b[39m \u001b[34mreadr  \u001b[39m 1.4.0     \u001b[32m✔\u001b[39m \u001b[34mforcats\u001b[39m 0.5.1\n",
            "\n",
            "── \u001b[1mConflicts\u001b[22m ────────────────────────────────────────── tidyverse_conflicts() ──\n",
            "\u001b[31m✖\u001b[39m \u001b[34mdplyr\u001b[39m::\u001b[32mfilter()\u001b[39m masks \u001b[34mstats\u001b[39m::filter()\n",
            "\u001b[31m✖\u001b[39m \u001b[34mdplyr\u001b[39m::\u001b[32mlag()\u001b[39m    masks \u001b[34mstats\u001b[39m::lag()\n",
            "\n"
          ],
          "name": "stderr"
        }
      ]
    },
    {
      "cell_type": "code",
      "metadata": {
        "scrolled": true,
        "colab": {
          "base_uri": "https://localhost:8080/",
          "height": 308
        },
        "id": "F4giyAm5a0dc",
        "outputId": "ce010478-a0a4-46ca-d0d1-7c20421637c3"
      },
      "source": [
        "(stocks <- tibble(\n",
        "  Year   = c(2015, 2015, 2015, 2015, 2016, 2016, 2016),\n",
        "  Qtr    = c(   1,    2,    3,    4,    2,    3,    4),\n",
        "  Return = c(1.88, 0.59, 0.35,   NA, 0.92, 0.17, 2.66)\n",
        "))"
      ],
      "execution_count": 2,
      "outputs": [
        {
          "output_type": "display_data",
          "data": {
            "text/plain": [
              "  Year Qtr Return\n",
              "1 2015 1   1.88  \n",
              "2 2015 2   0.59  \n",
              "3 2015 3   0.35  \n",
              "4 2015 4     NA  \n",
              "5 2016 2   0.92  \n",
              "6 2016 3   0.17  \n",
              "7 2016 4   2.66  "
            ],
            "text/latex": "A tibble: 7 × 3\n\\begin{tabular}{lll}\n Year & Qtr & Return\\\\\n <dbl> & <dbl> & <dbl>\\\\\n\\hline\n\t 2015 & 1 & 1.88\\\\\n\t 2015 & 2 & 0.59\\\\\n\t 2015 & 3 & 0.35\\\\\n\t 2015 & 4 &   NA\\\\\n\t 2016 & 2 & 0.92\\\\\n\t 2016 & 3 & 0.17\\\\\n\t 2016 & 4 & 2.66\\\\\n\\end{tabular}\n",
            "text/markdown": "\nA tibble: 7 × 3\n\n| Year &lt;dbl&gt; | Qtr &lt;dbl&gt; | Return &lt;dbl&gt; |\n|---|---|---|\n| 2015 | 1 | 1.88 |\n| 2015 | 2 | 0.59 |\n| 2015 | 3 | 0.35 |\n| 2015 | 4 |   NA |\n| 2016 | 2 | 0.92 |\n| 2016 | 3 | 0.17 |\n| 2016 | 4 | 2.66 |\n\n",
            "text/html": [
              "<table class=\"dataframe\">\n",
              "<caption>A tibble: 7 × 3</caption>\n",
              "<thead>\n",
              "\t<tr><th scope=col>Year</th><th scope=col>Qtr</th><th scope=col>Return</th></tr>\n",
              "\t<tr><th scope=col>&lt;dbl&gt;</th><th scope=col>&lt;dbl&gt;</th><th scope=col>&lt;dbl&gt;</th></tr>\n",
              "</thead>\n",
              "<tbody>\n",
              "\t<tr><td>2015</td><td>1</td><td>1.88</td></tr>\n",
              "\t<tr><td>2015</td><td>2</td><td>0.59</td></tr>\n",
              "\t<tr><td>2015</td><td>3</td><td>0.35</td></tr>\n",
              "\t<tr><td>2015</td><td>4</td><td>  NA</td></tr>\n",
              "\t<tr><td>2016</td><td>2</td><td>0.92</td></tr>\n",
              "\t<tr><td>2016</td><td>3</td><td>0.17</td></tr>\n",
              "\t<tr><td>2016</td><td>4</td><td>2.66</td></tr>\n",
              "</tbody>\n",
              "</table>\n"
            ]
          },
          "metadata": {
            "tags": []
          }
        }
      ]
    },
    {
      "cell_type": "markdown",
      "metadata": {
        "id": "fhB-kgcLa0dg"
      },
      "source": [
        "## Missing Values\n",
        "Missing values can be:\n",
        "1. *Explicit* (marked as NA in our data)\n",
        "1. *Implicit* (not present in the data)\n",
        "\n",
        "In this example we have one explicitly missing value for the 4th quarter of 2015. Are there any other missing values? Yes, because we do not have an observation for the first quarter of 2016."
      ]
    },
    {
      "cell_type": "markdown",
      "metadata": {
        "id": "4JgdcpsLa0dj"
      },
      "source": [
        "`complete`: Turns implicit missing values into explicit missing values."
      ]
    },
    {
      "cell_type": "code",
      "metadata": {
        "colab": {
          "base_uri": "https://localhost:8080/",
          "height": 338
        },
        "id": "BmZKZkl5a0dk",
        "outputId": "07c1d56e-5373-49ac-c3d6-4717279ed084"
      },
      "source": [
        "stocks %>% complete(Year, Qtr)"
      ],
      "execution_count": 3,
      "outputs": [
        {
          "output_type": "display_data",
          "data": {
            "text/plain": [
              "  Year Qtr Return\n",
              "1 2015 1   1.88  \n",
              "2 2015 2   0.59  \n",
              "3 2015 3   0.35  \n",
              "4 2015 4     NA  \n",
              "5 2016 1     NA  \n",
              "6 2016 2   0.92  \n",
              "7 2016 3   0.17  \n",
              "8 2016 4   2.66  "
            ],
            "text/latex": "A tibble: 8 × 3\n\\begin{tabular}{lll}\n Year & Qtr & Return\\\\\n <dbl> & <dbl> & <dbl>\\\\\n\\hline\n\t 2015 & 1 & 1.88\\\\\n\t 2015 & 2 & 0.59\\\\\n\t 2015 & 3 & 0.35\\\\\n\t 2015 & 4 &   NA\\\\\n\t 2016 & 1 &   NA\\\\\n\t 2016 & 2 & 0.92\\\\\n\t 2016 & 3 & 0.17\\\\\n\t 2016 & 4 & 2.66\\\\\n\\end{tabular}\n",
            "text/markdown": "\nA tibble: 8 × 3\n\n| Year &lt;dbl&gt; | Qtr &lt;dbl&gt; | Return &lt;dbl&gt; |\n|---|---|---|\n| 2015 | 1 | 1.88 |\n| 2015 | 2 | 0.59 |\n| 2015 | 3 | 0.35 |\n| 2015 | 4 |   NA |\n| 2016 | 1 |   NA |\n| 2016 | 2 | 0.92 |\n| 2016 | 3 | 0.17 |\n| 2016 | 4 | 2.66 |\n\n",
            "text/html": [
              "<table class=\"dataframe\">\n",
              "<caption>A tibble: 8 × 3</caption>\n",
              "<thead>\n",
              "\t<tr><th scope=col>Year</th><th scope=col>Qtr</th><th scope=col>Return</th></tr>\n",
              "\t<tr><th scope=col>&lt;dbl&gt;</th><th scope=col>&lt;dbl&gt;</th><th scope=col>&lt;dbl&gt;</th></tr>\n",
              "</thead>\n",
              "<tbody>\n",
              "\t<tr><td>2015</td><td>1</td><td>1.88</td></tr>\n",
              "\t<tr><td>2015</td><td>2</td><td>0.59</td></tr>\n",
              "\t<tr><td>2015</td><td>3</td><td>0.35</td></tr>\n",
              "\t<tr><td>2015</td><td>4</td><td>  NA</td></tr>\n",
              "\t<tr><td>2016</td><td>1</td><td>  NA</td></tr>\n",
              "\t<tr><td>2016</td><td>2</td><td>0.92</td></tr>\n",
              "\t<tr><td>2016</td><td>3</td><td>0.17</td></tr>\n",
              "\t<tr><td>2016</td><td>4</td><td>2.66</td></tr>\n",
              "</tbody>\n",
              "</table>\n"
            ]
          },
          "metadata": {
            "tags": []
          }
        }
      ]
    },
    {
      "cell_type": "markdown",
      "metadata": {
        "id": "jLkayxf-a0dn"
      },
      "source": [
        "`fill`: Fills missing values in selected columns using the previous entry."
      ]
    },
    {
      "cell_type": "code",
      "metadata": {
        "scrolled": true,
        "colab": {
          "base_uri": "https://localhost:8080/",
          "height": 338
        },
        "id": "eeVi_we-a0dp",
        "outputId": "e5096624-b86b-45d5-be9b-5a2264c9f5ca"
      },
      "source": [
        "stocks %>% complete(Year, Qtr) %>% fill(Return)"
      ],
      "execution_count": 4,
      "outputs": [
        {
          "output_type": "display_data",
          "data": {
            "text/plain": [
              "  Year Qtr Return\n",
              "1 2015 1   1.88  \n",
              "2 2015 2   0.59  \n",
              "3 2015 3   0.35  \n",
              "4 2015 4   0.35  \n",
              "5 2016 1   0.35  \n",
              "6 2016 2   0.92  \n",
              "7 2016 3   0.17  \n",
              "8 2016 4   2.66  "
            ],
            "text/latex": "A tibble: 8 × 3\n\\begin{tabular}{lll}\n Year & Qtr & Return\\\\\n <dbl> & <dbl> & <dbl>\\\\\n\\hline\n\t 2015 & 1 & 1.88\\\\\n\t 2015 & 2 & 0.59\\\\\n\t 2015 & 3 & 0.35\\\\\n\t 2015 & 4 & 0.35\\\\\n\t 2016 & 1 & 0.35\\\\\n\t 2016 & 2 & 0.92\\\\\n\t 2016 & 3 & 0.17\\\\\n\t 2016 & 4 & 2.66\\\\\n\\end{tabular}\n",
            "text/markdown": "\nA tibble: 8 × 3\n\n| Year &lt;dbl&gt; | Qtr &lt;dbl&gt; | Return &lt;dbl&gt; |\n|---|---|---|\n| 2015 | 1 | 1.88 |\n| 2015 | 2 | 0.59 |\n| 2015 | 3 | 0.35 |\n| 2015 | 4 | 0.35 |\n| 2016 | 1 | 0.35 |\n| 2016 | 2 | 0.92 |\n| 2016 | 3 | 0.17 |\n| 2016 | 4 | 2.66 |\n\n",
            "text/html": [
              "<table class=\"dataframe\">\n",
              "<caption>A tibble: 8 × 3</caption>\n",
              "<thead>\n",
              "\t<tr><th scope=col>Year</th><th scope=col>Qtr</th><th scope=col>Return</th></tr>\n",
              "\t<tr><th scope=col>&lt;dbl&gt;</th><th scope=col>&lt;dbl&gt;</th><th scope=col>&lt;dbl&gt;</th></tr>\n",
              "</thead>\n",
              "<tbody>\n",
              "\t<tr><td>2015</td><td>1</td><td>1.88</td></tr>\n",
              "\t<tr><td>2015</td><td>2</td><td>0.59</td></tr>\n",
              "\t<tr><td>2015</td><td>3</td><td>0.35</td></tr>\n",
              "\t<tr><td>2015</td><td>4</td><td>0.35</td></tr>\n",
              "\t<tr><td>2016</td><td>1</td><td>0.35</td></tr>\n",
              "\t<tr><td>2016</td><td>2</td><td>0.92</td></tr>\n",
              "\t<tr><td>2016</td><td>3</td><td>0.17</td></tr>\n",
              "\t<tr><td>2016</td><td>4</td><td>2.66</td></tr>\n",
              "</tbody>\n",
              "</table>\n"
            ]
          },
          "metadata": {
            "tags": []
          }
        }
      ]
    },
    {
      "cell_type": "markdown",
      "metadata": {
        "id": "v4T5ttl5a0dr"
      },
      "source": [
        "The missing values also become `explicit` if we widen the tibble."
      ]
    },
    {
      "cell_type": "code",
      "metadata": {
        "colab": {
          "base_uri": "https://localhost:8080/",
          "height": 217
        },
        "id": "sda1RMPma0ds",
        "outputId": "3e3e5958-182d-447c-feaf-d8ec1e28aefc"
      },
      "source": [
        "stocks_wide = stocks %>% pivot_wider(names_from = Year, values_from = Return)\n",
        "\n",
        "stocks_wide"
      ],
      "execution_count": 5,
      "outputs": [
        {
          "output_type": "display_data",
          "data": {
            "text/plain": [
              "  Qtr 2015 2016\n",
              "1 1   1.88   NA\n",
              "2 2   0.59 0.92\n",
              "3 3   0.35 0.17\n",
              "4 4     NA 2.66"
            ],
            "text/latex": "A tibble: 4 × 3\n\\begin{tabular}{lll}\n Qtr & 2015 & 2016\\\\\n <dbl> & <dbl> & <dbl>\\\\\n\\hline\n\t 1 & 1.88 &   NA\\\\\n\t 2 & 0.59 & 0.92\\\\\n\t 3 & 0.35 & 0.17\\\\\n\t 4 &   NA & 2.66\\\\\n\\end{tabular}\n",
            "text/markdown": "\nA tibble: 4 × 3\n\n| Qtr &lt;dbl&gt; | 2015 &lt;dbl&gt; | 2016 &lt;dbl&gt; |\n|---|---|---|\n| 1 | 1.88 |   NA |\n| 2 | 0.59 | 0.92 |\n| 3 | 0.35 | 0.17 |\n| 4 |   NA | 2.66 |\n\n",
            "text/html": [
              "<table class=\"dataframe\">\n",
              "<caption>A tibble: 4 × 3</caption>\n",
              "<thead>\n",
              "\t<tr><th scope=col>Qtr</th><th scope=col>2015</th><th scope=col>2016</th></tr>\n",
              "\t<tr><th scope=col>&lt;dbl&gt;</th><th scope=col>&lt;dbl&gt;</th><th scope=col>&lt;dbl&gt;</th></tr>\n",
              "</thead>\n",
              "<tbody>\n",
              "\t<tr><td>1</td><td>1.88</td><td>  NA</td></tr>\n",
              "\t<tr><td>2</td><td>0.59</td><td>0.92</td></tr>\n",
              "\t<tr><td>3</td><td>0.35</td><td>0.17</td></tr>\n",
              "\t<tr><td>4</td><td>  NA</td><td>2.66</td></tr>\n",
              "</tbody>\n",
              "</table>\n"
            ]
          },
          "metadata": {
            "tags": []
          }
        }
      ]
    },
    {
      "cell_type": "markdown",
      "metadata": {
        "id": "v7GIB0lGa0dx"
      },
      "source": [
        "`pivot_longer` will keep all these explicitly missing values by default."
      ]
    },
    {
      "cell_type": "code",
      "metadata": {
        "colab": {
          "base_uri": "https://localhost:8080/",
          "height": 338
        },
        "id": "b1p8RO20a0d0",
        "outputId": "75d95839-266d-4a67-a266-120b014d8770"
      },
      "source": [
        "stocks_wide %>% pivot_longer(cols = `2015`:`2016`, names_to = 'Year') %>%\n",
        "arrange(Year)"
      ],
      "execution_count": 6,
      "outputs": [
        {
          "output_type": "display_data",
          "data": {
            "text/plain": [
              "  Qtr Year value\n",
              "1 1   2015 1.88 \n",
              "2 2   2015 0.59 \n",
              "3 3   2015 0.35 \n",
              "4 4   2015   NA \n",
              "5 1   2016   NA \n",
              "6 2   2016 0.92 \n",
              "7 3   2016 0.17 \n",
              "8 4   2016 2.66 "
            ],
            "text/latex": "A tibble: 8 × 3\n\\begin{tabular}{lll}\n Qtr & Year & value\\\\\n <dbl> & <chr> & <dbl>\\\\\n\\hline\n\t 1 & 2015 & 1.88\\\\\n\t 2 & 2015 & 0.59\\\\\n\t 3 & 2015 & 0.35\\\\\n\t 4 & 2015 &   NA\\\\\n\t 1 & 2016 &   NA\\\\\n\t 2 & 2016 & 0.92\\\\\n\t 3 & 2016 & 0.17\\\\\n\t 4 & 2016 & 2.66\\\\\n\\end{tabular}\n",
            "text/markdown": "\nA tibble: 8 × 3\n\n| Qtr &lt;dbl&gt; | Year &lt;chr&gt; | value &lt;dbl&gt; |\n|---|---|---|\n| 1 | 2015 | 1.88 |\n| 2 | 2015 | 0.59 |\n| 3 | 2015 | 0.35 |\n| 4 | 2015 |   NA |\n| 1 | 2016 |   NA |\n| 2 | 2016 | 0.92 |\n| 3 | 2016 | 0.17 |\n| 4 | 2016 | 2.66 |\n\n",
            "text/html": [
              "<table class=\"dataframe\">\n",
              "<caption>A tibble: 8 × 3</caption>\n",
              "<thead>\n",
              "\t<tr><th scope=col>Qtr</th><th scope=col>Year</th><th scope=col>value</th></tr>\n",
              "\t<tr><th scope=col>&lt;dbl&gt;</th><th scope=col>&lt;chr&gt;</th><th scope=col>&lt;dbl&gt;</th></tr>\n",
              "</thead>\n",
              "<tbody>\n",
              "\t<tr><td>1</td><td>2015</td><td>1.88</td></tr>\n",
              "\t<tr><td>2</td><td>2015</td><td>0.59</td></tr>\n",
              "\t<tr><td>3</td><td>2015</td><td>0.35</td></tr>\n",
              "\t<tr><td>4</td><td>2015</td><td>  NA</td></tr>\n",
              "\t<tr><td>1</td><td>2016</td><td>  NA</td></tr>\n",
              "\t<tr><td>2</td><td>2016</td><td>0.92</td></tr>\n",
              "\t<tr><td>3</td><td>2016</td><td>0.17</td></tr>\n",
              "\t<tr><td>4</td><td>2016</td><td>2.66</td></tr>\n",
              "</tbody>\n",
              "</table>\n"
            ]
          },
          "metadata": {
            "tags": []
          }
        }
      ]
    },
    {
      "cell_type": "markdown",
      "metadata": {
        "id": "PZj0U9gIa0d3"
      },
      "source": [
        "## Cleaning the messy data"
      ]
    },
    {
      "cell_type": "code",
      "metadata": {
        "id": "GFwZZwDza0d5"
      },
      "source": [
        "datacamp_url = \"https://assets.datacamp.com/production/repositories/34/datasets/b3c1036d9a60a9dfe0f99051d2474a54f76055ea/weather.rds\"\n",
        "weather = readRDS(url(datacamp_url))"
      ],
      "execution_count": 7,
      "outputs": []
    },
    {
      "cell_type": "code",
      "metadata": {
        "colab": {
          "base_uri": "https://localhost:8080/",
          "height": 297
        },
        "id": "jbTtfE8Da0d6",
        "outputId": "a5799519-b087-4f7a-84fa-a8dd1d4e6347"
      },
      "source": [
        "weather %>% head"
      ],
      "execution_count": 8,
      "outputs": [
        {
          "output_type": "display_data",
          "data": {
            "text/plain": [
              "  X year month measure           X1 X2 X3 X4 X5 X6 ⋯ X22 X23 X24 X25 X26 X27\n",
              "1 1 2014 12    Max.TemperatureF  64 42 51 43 42 45 ⋯ 44  47  46  59  50  52 \n",
              "2 2 2014 12    Mean.TemperatureF 52 38 44 37 34 42 ⋯ 39  45  44  52  44  45 \n",
              "3 3 2014 12    Min.TemperatureF  39 33 37 30 26 38 ⋯ 33  42  41  44  37  38 \n",
              "4 4 2014 12    Max.Dew.PointF    46 40 49 24 37 45 ⋯ 39  45  46  58  31  34 \n",
              "5 5 2014 12    MeanDew.PointF    40 27 42 21 25 40 ⋯ 34  42  44  43  29  31 \n",
              "6 6 2014 12    Min.DewpointF     26 17 24 13 12 36 ⋯ 25  37  41  29  28  29 \n",
              "  X28 X29 X30 X31\n",
              "1 52  41  30  30 \n",
              "2 46  36  26  25 \n",
              "3 40  30  22  20 \n",
              "4 42  26  10  8  \n",
              "5 35  20  4   5  \n",
              "6 27  10  -6  1  "
            ],
            "text/latex": "A data.frame: 6 × 35\n\\begin{tabular}{r|lllllllllllllllllllll}\n  & X & year & month & measure & X1 & X2 & X3 & X4 & X5 & X6 & ⋯ & X22 & X23 & X24 & X25 & X26 & X27 & X28 & X29 & X30 & X31\\\\\n  & <int> & <int> & <int> & <chr> & <chr> & <chr> & <chr> & <chr> & <chr> & <chr> & ⋯ & <chr> & <chr> & <chr> & <chr> & <chr> & <chr> & <chr> & <chr> & <chr> & <chr>\\\\\n\\hline\n\t1 & 1 & 2014 & 12 & Max.TemperatureF  & 64 & 42 & 51 & 43 & 42 & 45 & ⋯ & 44 & 47 & 46 & 59 & 50 & 52 & 52 & 41 & 30 & 30\\\\\n\t2 & 2 & 2014 & 12 & Mean.TemperatureF & 52 & 38 & 44 & 37 & 34 & 42 & ⋯ & 39 & 45 & 44 & 52 & 44 & 45 & 46 & 36 & 26 & 25\\\\\n\t3 & 3 & 2014 & 12 & Min.TemperatureF  & 39 & 33 & 37 & 30 & 26 & 38 & ⋯ & 33 & 42 & 41 & 44 & 37 & 38 & 40 & 30 & 22 & 20\\\\\n\t4 & 4 & 2014 & 12 & Max.Dew.PointF    & 46 & 40 & 49 & 24 & 37 & 45 & ⋯ & 39 & 45 & 46 & 58 & 31 & 34 & 42 & 26 & 10 & 8 \\\\\n\t5 & 5 & 2014 & 12 & MeanDew.PointF    & 40 & 27 & 42 & 21 & 25 & 40 & ⋯ & 34 & 42 & 44 & 43 & 29 & 31 & 35 & 20 & 4  & 5 \\\\\n\t6 & 6 & 2014 & 12 & Min.DewpointF     & 26 & 17 & 24 & 13 & 12 & 36 & ⋯ & 25 & 37 & 41 & 29 & 28 & 29 & 27 & 10 & -6 & 1 \\\\\n\\end{tabular}\n",
            "text/markdown": "\nA data.frame: 6 × 35\n\n| <!--/--> | X &lt;int&gt; | year &lt;int&gt; | month &lt;int&gt; | measure &lt;chr&gt; | X1 &lt;chr&gt; | X2 &lt;chr&gt; | X3 &lt;chr&gt; | X4 &lt;chr&gt; | X5 &lt;chr&gt; | X6 &lt;chr&gt; | ⋯ ⋯ | X22 &lt;chr&gt; | X23 &lt;chr&gt; | X24 &lt;chr&gt; | X25 &lt;chr&gt; | X26 &lt;chr&gt; | X27 &lt;chr&gt; | X28 &lt;chr&gt; | X29 &lt;chr&gt; | X30 &lt;chr&gt; | X31 &lt;chr&gt; |\n|---|---|---|---|---|---|---|---|---|---|---|---|---|---|---|---|---|---|---|---|---|---|\n| 1 | 1 | 2014 | 12 | Max.TemperatureF  | 64 | 42 | 51 | 43 | 42 | 45 | ⋯ | 44 | 47 | 46 | 59 | 50 | 52 | 52 | 41 | 30 | 30 |\n| 2 | 2 | 2014 | 12 | Mean.TemperatureF | 52 | 38 | 44 | 37 | 34 | 42 | ⋯ | 39 | 45 | 44 | 52 | 44 | 45 | 46 | 36 | 26 | 25 |\n| 3 | 3 | 2014 | 12 | Min.TemperatureF  | 39 | 33 | 37 | 30 | 26 | 38 | ⋯ | 33 | 42 | 41 | 44 | 37 | 38 | 40 | 30 | 22 | 20 |\n| 4 | 4 | 2014 | 12 | Max.Dew.PointF    | 46 | 40 | 49 | 24 | 37 | 45 | ⋯ | 39 | 45 | 46 | 58 | 31 | 34 | 42 | 26 | 10 | 8  |\n| 5 | 5 | 2014 | 12 | MeanDew.PointF    | 40 | 27 | 42 | 21 | 25 | 40 | ⋯ | 34 | 42 | 44 | 43 | 29 | 31 | 35 | 20 | 4  | 5  |\n| 6 | 6 | 2014 | 12 | Min.DewpointF     | 26 | 17 | 24 | 13 | 12 | 36 | ⋯ | 25 | 37 | 41 | 29 | 28 | 29 | 27 | 10 | -6 | 1  |\n\n",
            "text/html": [
              "<table class=\"dataframe\">\n",
              "<caption>A data.frame: 6 × 35</caption>\n",
              "<thead>\n",
              "\t<tr><th></th><th scope=col>X</th><th scope=col>year</th><th scope=col>month</th><th scope=col>measure</th><th scope=col>X1</th><th scope=col>X2</th><th scope=col>X3</th><th scope=col>X4</th><th scope=col>X5</th><th scope=col>X6</th><th scope=col>⋯</th><th scope=col>X22</th><th scope=col>X23</th><th scope=col>X24</th><th scope=col>X25</th><th scope=col>X26</th><th scope=col>X27</th><th scope=col>X28</th><th scope=col>X29</th><th scope=col>X30</th><th scope=col>X31</th></tr>\n",
              "\t<tr><th></th><th scope=col>&lt;int&gt;</th><th scope=col>&lt;int&gt;</th><th scope=col>&lt;int&gt;</th><th scope=col>&lt;chr&gt;</th><th scope=col>&lt;chr&gt;</th><th scope=col>&lt;chr&gt;</th><th scope=col>&lt;chr&gt;</th><th scope=col>&lt;chr&gt;</th><th scope=col>&lt;chr&gt;</th><th scope=col>&lt;chr&gt;</th><th scope=col>⋯</th><th scope=col>&lt;chr&gt;</th><th scope=col>&lt;chr&gt;</th><th scope=col>&lt;chr&gt;</th><th scope=col>&lt;chr&gt;</th><th scope=col>&lt;chr&gt;</th><th scope=col>&lt;chr&gt;</th><th scope=col>&lt;chr&gt;</th><th scope=col>&lt;chr&gt;</th><th scope=col>&lt;chr&gt;</th><th scope=col>&lt;chr&gt;</th></tr>\n",
              "</thead>\n",
              "<tbody>\n",
              "\t<tr><th scope=row>1</th><td>1</td><td>2014</td><td>12</td><td>Max.TemperatureF </td><td>64</td><td>42</td><td>51</td><td>43</td><td>42</td><td>45</td><td>⋯</td><td>44</td><td>47</td><td>46</td><td>59</td><td>50</td><td>52</td><td>52</td><td>41</td><td>30</td><td>30</td></tr>\n",
              "\t<tr><th scope=row>2</th><td>2</td><td>2014</td><td>12</td><td>Mean.TemperatureF</td><td>52</td><td>38</td><td>44</td><td>37</td><td>34</td><td>42</td><td>⋯</td><td>39</td><td>45</td><td>44</td><td>52</td><td>44</td><td>45</td><td>46</td><td>36</td><td>26</td><td>25</td></tr>\n",
              "\t<tr><th scope=row>3</th><td>3</td><td>2014</td><td>12</td><td>Min.TemperatureF </td><td>39</td><td>33</td><td>37</td><td>30</td><td>26</td><td>38</td><td>⋯</td><td>33</td><td>42</td><td>41</td><td>44</td><td>37</td><td>38</td><td>40</td><td>30</td><td>22</td><td>20</td></tr>\n",
              "\t<tr><th scope=row>4</th><td>4</td><td>2014</td><td>12</td><td>Max.Dew.PointF   </td><td>46</td><td>40</td><td>49</td><td>24</td><td>37</td><td>45</td><td>⋯</td><td>39</td><td>45</td><td>46</td><td>58</td><td>31</td><td>34</td><td>42</td><td>26</td><td>10</td><td>8 </td></tr>\n",
              "\t<tr><th scope=row>5</th><td>5</td><td>2014</td><td>12</td><td>MeanDew.PointF   </td><td>40</td><td>27</td><td>42</td><td>21</td><td>25</td><td>40</td><td>⋯</td><td>34</td><td>42</td><td>44</td><td>43</td><td>29</td><td>31</td><td>35</td><td>20</td><td>4 </td><td>5 </td></tr>\n",
              "\t<tr><th scope=row>6</th><td>6</td><td>2014</td><td>12</td><td>Min.DewpointF    </td><td>26</td><td>17</td><td>24</td><td>13</td><td>12</td><td>36</td><td>⋯</td><td>25</td><td>37</td><td>41</td><td>29</td><td>28</td><td>29</td><td>27</td><td>10</td><td>-6</td><td>1 </td></tr>\n",
              "</tbody>\n",
              "</table>\n"
            ]
          },
          "metadata": {
            "tags": []
          }
        }
      ]
    },
    {
      "cell_type": "markdown",
      "metadata": {
        "id": "74QgDmtua0d-"
      },
      "source": [
        "The first row is for row number, let's ignore that"
      ]
    },
    {
      "cell_type": "code",
      "metadata": {
        "id": "jkht9y3ma0eC"
      },
      "source": [
        "weather = weather %>% select(-X)"
      ],
      "execution_count": 9,
      "outputs": []
    },
    {
      "cell_type": "markdown",
      "metadata": {
        "id": "nPC2Utgoa0eD"
      },
      "source": [
        "It looks like the values for the weather measurements (column 3) for each day of the month are stored in the columns `X1` to `X31`. From `tidy data` perspective, the data set is messy because:\n",
        "* column names are values (`X1` to `X31`)\n",
        "* variable names are represented as values (column 3 - `measure`)\n",
        "\n",
        "We can correct it by using `pivot_longer`"
      ]
    },
    {
      "cell_type": "code",
      "metadata": {
        "colab": {
          "base_uri": "https://localhost:8080/",
          "height": 277
        },
        "id": "PdRbvRDPa0eE",
        "outputId": "ecee4ad5-300e-4a12-8805-72c9b763fc99"
      },
      "source": [
        "tidy_weather = weather %>% \n",
        "pivot_longer(cols = `X1`:`X31`, names_to = 'day', values_to = \"value\") %>%\n",
        "select(year, month, day, everything())\n",
        "\n",
        "head(tidy_weather)"
      ],
      "execution_count": 10,
      "outputs": [
        {
          "output_type": "display_data",
          "data": {
            "text/plain": [
              "  year month day measure          value\n",
              "1 2014 12    X1  Max.TemperatureF 64   \n",
              "2 2014 12    X2  Max.TemperatureF 42   \n",
              "3 2014 12    X3  Max.TemperatureF 51   \n",
              "4 2014 12    X4  Max.TemperatureF 43   \n",
              "5 2014 12    X5  Max.TemperatureF 42   \n",
              "6 2014 12    X6  Max.TemperatureF 45   "
            ],
            "text/latex": "A tibble: 6 × 5\n\\begin{tabular}{lllll}\n year & month & day & measure & value\\\\\n <int> & <int> & <chr> & <chr> & <chr>\\\\\n\\hline\n\t 2014 & 12 & X1 & Max.TemperatureF & 64\\\\\n\t 2014 & 12 & X2 & Max.TemperatureF & 42\\\\\n\t 2014 & 12 & X3 & Max.TemperatureF & 51\\\\\n\t 2014 & 12 & X4 & Max.TemperatureF & 43\\\\\n\t 2014 & 12 & X5 & Max.TemperatureF & 42\\\\\n\t 2014 & 12 & X6 & Max.TemperatureF & 45\\\\\n\\end{tabular}\n",
            "text/markdown": "\nA tibble: 6 × 5\n\n| year &lt;int&gt; | month &lt;int&gt; | day &lt;chr&gt; | measure &lt;chr&gt; | value &lt;chr&gt; |\n|---|---|---|---|---|\n| 2014 | 12 | X1 | Max.TemperatureF | 64 |\n| 2014 | 12 | X2 | Max.TemperatureF | 42 |\n| 2014 | 12 | X3 | Max.TemperatureF | 51 |\n| 2014 | 12 | X4 | Max.TemperatureF | 43 |\n| 2014 | 12 | X5 | Max.TemperatureF | 42 |\n| 2014 | 12 | X6 | Max.TemperatureF | 45 |\n\n",
            "text/html": [
              "<table class=\"dataframe\">\n",
              "<caption>A tibble: 6 × 5</caption>\n",
              "<thead>\n",
              "\t<tr><th scope=col>year</th><th scope=col>month</th><th scope=col>day</th><th scope=col>measure</th><th scope=col>value</th></tr>\n",
              "\t<tr><th scope=col>&lt;int&gt;</th><th scope=col>&lt;int&gt;</th><th scope=col>&lt;chr&gt;</th><th scope=col>&lt;chr&gt;</th><th scope=col>&lt;chr&gt;</th></tr>\n",
              "</thead>\n",
              "<tbody>\n",
              "\t<tr><td>2014</td><td>12</td><td>X1</td><td>Max.TemperatureF</td><td>64</td></tr>\n",
              "\t<tr><td>2014</td><td>12</td><td>X2</td><td>Max.TemperatureF</td><td>42</td></tr>\n",
              "\t<tr><td>2014</td><td>12</td><td>X3</td><td>Max.TemperatureF</td><td>51</td></tr>\n",
              "\t<tr><td>2014</td><td>12</td><td>X4</td><td>Max.TemperatureF</td><td>43</td></tr>\n",
              "\t<tr><td>2014</td><td>12</td><td>X5</td><td>Max.TemperatureF</td><td>42</td></tr>\n",
              "\t<tr><td>2014</td><td>12</td><td>X6</td><td>Max.TemperatureF</td><td>45</td></tr>\n",
              "</tbody>\n",
              "</table>\n"
            ]
          },
          "metadata": {
            "tags": []
          }
        }
      ]
    },
    {
      "cell_type": "markdown",
      "metadata": {
        "id": "P3cYGfGNa0eF"
      },
      "source": [
        "The values in the column `measure` of the weather dataset should be variables."
      ]
    },
    {
      "cell_type": "code",
      "metadata": {
        "colab": {
          "base_uri": "https://localhost:8080/",
          "height": 314
        },
        "id": "z54zRGhGa0eG",
        "outputId": "69d3eff4-ede4-465d-8e1f-33b95cce9096"
      },
      "source": [
        "tidy_weather = tidy_weather %>% pivot_wider(names_from = measure, values_from = value)\n",
        "\n",
        "head(tidy_weather)"
      ],
      "execution_count": 11,
      "outputs": [
        {
          "output_type": "display_data",
          "data": {
            "text/plain": [
              "  year month day Max.TemperatureF Mean.TemperatureF Min.TemperatureF\n",
              "1 2014 12    X1  64               52                39              \n",
              "2 2014 12    X2  42               38                33              \n",
              "3 2014 12    X3  51               44                37              \n",
              "4 2014 12    X4  43               37                30              \n",
              "5 2014 12    X5  42               34                26              \n",
              "6 2014 12    X6  45               42                38              \n",
              "  Max.Dew.PointF MeanDew.PointF Min.DewpointF Max.Humidity ⋯\n",
              "1 46             40             26            74           ⋯\n",
              "2 40             27             17            92           ⋯\n",
              "3 49             42             24            100          ⋯\n",
              "4 24             21             13            69           ⋯\n",
              "5 37             25             12            85           ⋯\n",
              "6 45             40             36            100          ⋯\n",
              "  Max.VisibilityMiles Mean.VisibilityMiles Min.VisibilityMiles\n",
              "1 10                  10                   10                 \n",
              "2 10                  8                    2                  \n",
              "3 10                  5                    1                  \n",
              "4 10                  10                   10                 \n",
              "5 10                  10                   5                  \n",
              "6 10                  4                    0                  \n",
              "  Max.Wind.SpeedMPH Mean.Wind.SpeedMPH Max.Gust.SpeedMPH PrecipitationIn\n",
              "1 22                13                 29                0.01           \n",
              "2 24                15                 29                0.10           \n",
              "3 29                12                 38                0.44           \n",
              "4 25                12                 33                0.00           \n",
              "5 22                10                 26                0.11           \n",
              "6 22                8                  25                1.09           \n",
              "  CloudCover Events    WindDirDegrees\n",
              "1 6          Rain      268           \n",
              "2 7          Rain-Snow 62            \n",
              "3 8          Rain      254           \n",
              "4 3                    292           \n",
              "5 5          Rain      61            \n",
              "6 8          Rain      313           "
            ],
            "text/latex": "A tibble: 6 × 25\n\\begin{tabular}{lllllllllllllllllllll}\n year & month & day & Max.TemperatureF & Mean.TemperatureF & Min.TemperatureF & Max.Dew.PointF & MeanDew.PointF & Min.DewpointF & Max.Humidity & ⋯ & Max.VisibilityMiles & Mean.VisibilityMiles & Min.VisibilityMiles & Max.Wind.SpeedMPH & Mean.Wind.SpeedMPH & Max.Gust.SpeedMPH & PrecipitationIn & CloudCover & Events & WindDirDegrees\\\\\n <int> & <int> & <chr> & <chr> & <chr> & <chr> & <chr> & <chr> & <chr> & <chr> & ⋯ & <chr> & <chr> & <chr> & <chr> & <chr> & <chr> & <chr> & <chr> & <chr> & <chr>\\\\\n\\hline\n\t 2014 & 12 & X1 & 64 & 52 & 39 & 46 & 40 & 26 & 74  & ⋯ & 10 & 10 & 10 & 22 & 13 & 29 & 0.01 & 6 & Rain      & 268\\\\\n\t 2014 & 12 & X2 & 42 & 38 & 33 & 40 & 27 & 17 & 92  & ⋯ & 10 & 8  & 2  & 24 & 15 & 29 & 0.10 & 7 & Rain-Snow & 62 \\\\\n\t 2014 & 12 & X3 & 51 & 44 & 37 & 49 & 42 & 24 & 100 & ⋯ & 10 & 5  & 1  & 29 & 12 & 38 & 0.44 & 8 & Rain      & 254\\\\\n\t 2014 & 12 & X4 & 43 & 37 & 30 & 24 & 21 & 13 & 69  & ⋯ & 10 & 10 & 10 & 25 & 12 & 33 & 0.00 & 3 &           & 292\\\\\n\t 2014 & 12 & X5 & 42 & 34 & 26 & 37 & 25 & 12 & 85  & ⋯ & 10 & 10 & 5  & 22 & 10 & 26 & 0.11 & 5 & Rain      & 61 \\\\\n\t 2014 & 12 & X6 & 45 & 42 & 38 & 45 & 40 & 36 & 100 & ⋯ & 10 & 4  & 0  & 22 & 8  & 25 & 1.09 & 8 & Rain      & 313\\\\\n\\end{tabular}\n",
            "text/markdown": "\nA tibble: 6 × 25\n\n| year &lt;int&gt; | month &lt;int&gt; | day &lt;chr&gt; | Max.TemperatureF &lt;chr&gt; | Mean.TemperatureF &lt;chr&gt; | Min.TemperatureF &lt;chr&gt; | Max.Dew.PointF &lt;chr&gt; | MeanDew.PointF &lt;chr&gt; | Min.DewpointF &lt;chr&gt; | Max.Humidity &lt;chr&gt; | ⋯ ⋯ | Max.VisibilityMiles &lt;chr&gt; | Mean.VisibilityMiles &lt;chr&gt; | Min.VisibilityMiles &lt;chr&gt; | Max.Wind.SpeedMPH &lt;chr&gt; | Mean.Wind.SpeedMPH &lt;chr&gt; | Max.Gust.SpeedMPH &lt;chr&gt; | PrecipitationIn &lt;chr&gt; | CloudCover &lt;chr&gt; | Events &lt;chr&gt; | WindDirDegrees &lt;chr&gt; |\n|---|---|---|---|---|---|---|---|---|---|---|---|---|---|---|---|---|---|---|---|---|\n| 2014 | 12 | X1 | 64 | 52 | 39 | 46 | 40 | 26 | 74  | ⋯ | 10 | 10 | 10 | 22 | 13 | 29 | 0.01 | 6 | Rain      | 268 |\n| 2014 | 12 | X2 | 42 | 38 | 33 | 40 | 27 | 17 | 92  | ⋯ | 10 | 8  | 2  | 24 | 15 | 29 | 0.10 | 7 | Rain-Snow | 62  |\n| 2014 | 12 | X3 | 51 | 44 | 37 | 49 | 42 | 24 | 100 | ⋯ | 10 | 5  | 1  | 29 | 12 | 38 | 0.44 | 8 | Rain      | 254 |\n| 2014 | 12 | X4 | 43 | 37 | 30 | 24 | 21 | 13 | 69  | ⋯ | 10 | 10 | 10 | 25 | 12 | 33 | 0.00 | 3 | <!----> | 292 |\n| 2014 | 12 | X5 | 42 | 34 | 26 | 37 | 25 | 12 | 85  | ⋯ | 10 | 10 | 5  | 22 | 10 | 26 | 0.11 | 5 | Rain      | 61  |\n| 2014 | 12 | X6 | 45 | 42 | 38 | 45 | 40 | 36 | 100 | ⋯ | 10 | 4  | 0  | 22 | 8  | 25 | 1.09 | 8 | Rain      | 313 |\n\n",
            "text/html": [
              "<table class=\"dataframe\">\n",
              "<caption>A tibble: 6 × 25</caption>\n",
              "<thead>\n",
              "\t<tr><th scope=col>year</th><th scope=col>month</th><th scope=col>day</th><th scope=col>Max.TemperatureF</th><th scope=col>Mean.TemperatureF</th><th scope=col>Min.TemperatureF</th><th scope=col>Max.Dew.PointF</th><th scope=col>MeanDew.PointF</th><th scope=col>Min.DewpointF</th><th scope=col>Max.Humidity</th><th scope=col>⋯</th><th scope=col>Max.VisibilityMiles</th><th scope=col>Mean.VisibilityMiles</th><th scope=col>Min.VisibilityMiles</th><th scope=col>Max.Wind.SpeedMPH</th><th scope=col>Mean.Wind.SpeedMPH</th><th scope=col>Max.Gust.SpeedMPH</th><th scope=col>PrecipitationIn</th><th scope=col>CloudCover</th><th scope=col>Events</th><th scope=col>WindDirDegrees</th></tr>\n",
              "\t<tr><th scope=col>&lt;int&gt;</th><th scope=col>&lt;int&gt;</th><th scope=col>&lt;chr&gt;</th><th scope=col>&lt;chr&gt;</th><th scope=col>&lt;chr&gt;</th><th scope=col>&lt;chr&gt;</th><th scope=col>&lt;chr&gt;</th><th scope=col>&lt;chr&gt;</th><th scope=col>&lt;chr&gt;</th><th scope=col>&lt;chr&gt;</th><th scope=col>⋯</th><th scope=col>&lt;chr&gt;</th><th scope=col>&lt;chr&gt;</th><th scope=col>&lt;chr&gt;</th><th scope=col>&lt;chr&gt;</th><th scope=col>&lt;chr&gt;</th><th scope=col>&lt;chr&gt;</th><th scope=col>&lt;chr&gt;</th><th scope=col>&lt;chr&gt;</th><th scope=col>&lt;chr&gt;</th><th scope=col>&lt;chr&gt;</th></tr>\n",
              "</thead>\n",
              "<tbody>\n",
              "\t<tr><td>2014</td><td>12</td><td>X1</td><td>64</td><td>52</td><td>39</td><td>46</td><td>40</td><td>26</td><td>74 </td><td>⋯</td><td>10</td><td>10</td><td>10</td><td>22</td><td>13</td><td>29</td><td>0.01</td><td>6</td><td>Rain     </td><td>268</td></tr>\n",
              "\t<tr><td>2014</td><td>12</td><td>X2</td><td>42</td><td>38</td><td>33</td><td>40</td><td>27</td><td>17</td><td>92 </td><td>⋯</td><td>10</td><td>8 </td><td>2 </td><td>24</td><td>15</td><td>29</td><td>0.10</td><td>7</td><td>Rain-Snow</td><td>62 </td></tr>\n",
              "\t<tr><td>2014</td><td>12</td><td>X3</td><td>51</td><td>44</td><td>37</td><td>49</td><td>42</td><td>24</td><td>100</td><td>⋯</td><td>10</td><td>5 </td><td>1 </td><td>29</td><td>12</td><td>38</td><td>0.44</td><td>8</td><td>Rain     </td><td>254</td></tr>\n",
              "\t<tr><td>2014</td><td>12</td><td>X4</td><td>43</td><td>37</td><td>30</td><td>24</td><td>21</td><td>13</td><td>69 </td><td>⋯</td><td>10</td><td>10</td><td>10</td><td>25</td><td>12</td><td>33</td><td>0.00</td><td>3</td><td>         </td><td>292</td></tr>\n",
              "\t<tr><td>2014</td><td>12</td><td>X5</td><td>42</td><td>34</td><td>26</td><td>37</td><td>25</td><td>12</td><td>85 </td><td>⋯</td><td>10</td><td>10</td><td>5 </td><td>22</td><td>10</td><td>26</td><td>0.11</td><td>5</td><td>Rain     </td><td>61 </td></tr>\n",
              "\t<tr><td>2014</td><td>12</td><td>X6</td><td>45</td><td>42</td><td>38</td><td>45</td><td>40</td><td>36</td><td>100</td><td>⋯</td><td>10</td><td>4 </td><td>0 </td><td>22</td><td>8 </td><td>25</td><td>1.09</td><td>8</td><td>Rain     </td><td>313</td></tr>\n",
              "</tbody>\n",
              "</table>\n"
            ]
          },
          "metadata": {
            "tags": []
          }
        }
      ]
    },
    {
      "cell_type": "code",
      "metadata": {
        "colab": {
          "base_uri": "https://localhost:8080/",
          "height": 314
        },
        "id": "juY8WrkIa0eH",
        "outputId": "76eda332-9515-4927-c411-0542a3a3b232"
      },
      "source": [
        "tidy_weather %>% head"
      ],
      "execution_count": 12,
      "outputs": [
        {
          "output_type": "display_data",
          "data": {
            "text/plain": [
              "  year month day Max.TemperatureF Mean.TemperatureF Min.TemperatureF\n",
              "1 2014 12    X1  64               52                39              \n",
              "2 2014 12    X2  42               38                33              \n",
              "3 2014 12    X3  51               44                37              \n",
              "4 2014 12    X4  43               37                30              \n",
              "5 2014 12    X5  42               34                26              \n",
              "6 2014 12    X6  45               42                38              \n",
              "  Max.Dew.PointF MeanDew.PointF Min.DewpointF Max.Humidity ⋯\n",
              "1 46             40             26            74           ⋯\n",
              "2 40             27             17            92           ⋯\n",
              "3 49             42             24            100          ⋯\n",
              "4 24             21             13            69           ⋯\n",
              "5 37             25             12            85           ⋯\n",
              "6 45             40             36            100          ⋯\n",
              "  Max.VisibilityMiles Mean.VisibilityMiles Min.VisibilityMiles\n",
              "1 10                  10                   10                 \n",
              "2 10                  8                    2                  \n",
              "3 10                  5                    1                  \n",
              "4 10                  10                   10                 \n",
              "5 10                  10                   5                  \n",
              "6 10                  4                    0                  \n",
              "  Max.Wind.SpeedMPH Mean.Wind.SpeedMPH Max.Gust.SpeedMPH PrecipitationIn\n",
              "1 22                13                 29                0.01           \n",
              "2 24                15                 29                0.10           \n",
              "3 29                12                 38                0.44           \n",
              "4 25                12                 33                0.00           \n",
              "5 22                10                 26                0.11           \n",
              "6 22                8                  25                1.09           \n",
              "  CloudCover Events    WindDirDegrees\n",
              "1 6          Rain      268           \n",
              "2 7          Rain-Snow 62            \n",
              "3 8          Rain      254           \n",
              "4 3                    292           \n",
              "5 5          Rain      61            \n",
              "6 8          Rain      313           "
            ],
            "text/latex": "A tibble: 6 × 25\n\\begin{tabular}{lllllllllllllllllllll}\n year & month & day & Max.TemperatureF & Mean.TemperatureF & Min.TemperatureF & Max.Dew.PointF & MeanDew.PointF & Min.DewpointF & Max.Humidity & ⋯ & Max.VisibilityMiles & Mean.VisibilityMiles & Min.VisibilityMiles & Max.Wind.SpeedMPH & Mean.Wind.SpeedMPH & Max.Gust.SpeedMPH & PrecipitationIn & CloudCover & Events & WindDirDegrees\\\\\n <int> & <int> & <chr> & <chr> & <chr> & <chr> & <chr> & <chr> & <chr> & <chr> & ⋯ & <chr> & <chr> & <chr> & <chr> & <chr> & <chr> & <chr> & <chr> & <chr> & <chr>\\\\\n\\hline\n\t 2014 & 12 & X1 & 64 & 52 & 39 & 46 & 40 & 26 & 74  & ⋯ & 10 & 10 & 10 & 22 & 13 & 29 & 0.01 & 6 & Rain      & 268\\\\\n\t 2014 & 12 & X2 & 42 & 38 & 33 & 40 & 27 & 17 & 92  & ⋯ & 10 & 8  & 2  & 24 & 15 & 29 & 0.10 & 7 & Rain-Snow & 62 \\\\\n\t 2014 & 12 & X3 & 51 & 44 & 37 & 49 & 42 & 24 & 100 & ⋯ & 10 & 5  & 1  & 29 & 12 & 38 & 0.44 & 8 & Rain      & 254\\\\\n\t 2014 & 12 & X4 & 43 & 37 & 30 & 24 & 21 & 13 & 69  & ⋯ & 10 & 10 & 10 & 25 & 12 & 33 & 0.00 & 3 &           & 292\\\\\n\t 2014 & 12 & X5 & 42 & 34 & 26 & 37 & 25 & 12 & 85  & ⋯ & 10 & 10 & 5  & 22 & 10 & 26 & 0.11 & 5 & Rain      & 61 \\\\\n\t 2014 & 12 & X6 & 45 & 42 & 38 & 45 & 40 & 36 & 100 & ⋯ & 10 & 4  & 0  & 22 & 8  & 25 & 1.09 & 8 & Rain      & 313\\\\\n\\end{tabular}\n",
            "text/markdown": "\nA tibble: 6 × 25\n\n| year &lt;int&gt; | month &lt;int&gt; | day &lt;chr&gt; | Max.TemperatureF &lt;chr&gt; | Mean.TemperatureF &lt;chr&gt; | Min.TemperatureF &lt;chr&gt; | Max.Dew.PointF &lt;chr&gt; | MeanDew.PointF &lt;chr&gt; | Min.DewpointF &lt;chr&gt; | Max.Humidity &lt;chr&gt; | ⋯ ⋯ | Max.VisibilityMiles &lt;chr&gt; | Mean.VisibilityMiles &lt;chr&gt; | Min.VisibilityMiles &lt;chr&gt; | Max.Wind.SpeedMPH &lt;chr&gt; | Mean.Wind.SpeedMPH &lt;chr&gt; | Max.Gust.SpeedMPH &lt;chr&gt; | PrecipitationIn &lt;chr&gt; | CloudCover &lt;chr&gt; | Events &lt;chr&gt; | WindDirDegrees &lt;chr&gt; |\n|---|---|---|---|---|---|---|---|---|---|---|---|---|---|---|---|---|---|---|---|---|\n| 2014 | 12 | X1 | 64 | 52 | 39 | 46 | 40 | 26 | 74  | ⋯ | 10 | 10 | 10 | 22 | 13 | 29 | 0.01 | 6 | Rain      | 268 |\n| 2014 | 12 | X2 | 42 | 38 | 33 | 40 | 27 | 17 | 92  | ⋯ | 10 | 8  | 2  | 24 | 15 | 29 | 0.10 | 7 | Rain-Snow | 62  |\n| 2014 | 12 | X3 | 51 | 44 | 37 | 49 | 42 | 24 | 100 | ⋯ | 10 | 5  | 1  | 29 | 12 | 38 | 0.44 | 8 | Rain      | 254 |\n| 2014 | 12 | X4 | 43 | 37 | 30 | 24 | 21 | 13 | 69  | ⋯ | 10 | 10 | 10 | 25 | 12 | 33 | 0.00 | 3 | <!----> | 292 |\n| 2014 | 12 | X5 | 42 | 34 | 26 | 37 | 25 | 12 | 85  | ⋯ | 10 | 10 | 5  | 22 | 10 | 26 | 0.11 | 5 | Rain      | 61  |\n| 2014 | 12 | X6 | 45 | 42 | 38 | 45 | 40 | 36 | 100 | ⋯ | 10 | 4  | 0  | 22 | 8  | 25 | 1.09 | 8 | Rain      | 313 |\n\n",
            "text/html": [
              "<table class=\"dataframe\">\n",
              "<caption>A tibble: 6 × 25</caption>\n",
              "<thead>\n",
              "\t<tr><th scope=col>year</th><th scope=col>month</th><th scope=col>day</th><th scope=col>Max.TemperatureF</th><th scope=col>Mean.TemperatureF</th><th scope=col>Min.TemperatureF</th><th scope=col>Max.Dew.PointF</th><th scope=col>MeanDew.PointF</th><th scope=col>Min.DewpointF</th><th scope=col>Max.Humidity</th><th scope=col>⋯</th><th scope=col>Max.VisibilityMiles</th><th scope=col>Mean.VisibilityMiles</th><th scope=col>Min.VisibilityMiles</th><th scope=col>Max.Wind.SpeedMPH</th><th scope=col>Mean.Wind.SpeedMPH</th><th scope=col>Max.Gust.SpeedMPH</th><th scope=col>PrecipitationIn</th><th scope=col>CloudCover</th><th scope=col>Events</th><th scope=col>WindDirDegrees</th></tr>\n",
              "\t<tr><th scope=col>&lt;int&gt;</th><th scope=col>&lt;int&gt;</th><th scope=col>&lt;chr&gt;</th><th scope=col>&lt;chr&gt;</th><th scope=col>&lt;chr&gt;</th><th scope=col>&lt;chr&gt;</th><th scope=col>&lt;chr&gt;</th><th scope=col>&lt;chr&gt;</th><th scope=col>&lt;chr&gt;</th><th scope=col>&lt;chr&gt;</th><th scope=col>⋯</th><th scope=col>&lt;chr&gt;</th><th scope=col>&lt;chr&gt;</th><th scope=col>&lt;chr&gt;</th><th scope=col>&lt;chr&gt;</th><th scope=col>&lt;chr&gt;</th><th scope=col>&lt;chr&gt;</th><th scope=col>&lt;chr&gt;</th><th scope=col>&lt;chr&gt;</th><th scope=col>&lt;chr&gt;</th><th scope=col>&lt;chr&gt;</th></tr>\n",
              "</thead>\n",
              "<tbody>\n",
              "\t<tr><td>2014</td><td>12</td><td>X1</td><td>64</td><td>52</td><td>39</td><td>46</td><td>40</td><td>26</td><td>74 </td><td>⋯</td><td>10</td><td>10</td><td>10</td><td>22</td><td>13</td><td>29</td><td>0.01</td><td>6</td><td>Rain     </td><td>268</td></tr>\n",
              "\t<tr><td>2014</td><td>12</td><td>X2</td><td>42</td><td>38</td><td>33</td><td>40</td><td>27</td><td>17</td><td>92 </td><td>⋯</td><td>10</td><td>8 </td><td>2 </td><td>24</td><td>15</td><td>29</td><td>0.10</td><td>7</td><td>Rain-Snow</td><td>62 </td></tr>\n",
              "\t<tr><td>2014</td><td>12</td><td>X3</td><td>51</td><td>44</td><td>37</td><td>49</td><td>42</td><td>24</td><td>100</td><td>⋯</td><td>10</td><td>5 </td><td>1 </td><td>29</td><td>12</td><td>38</td><td>0.44</td><td>8</td><td>Rain     </td><td>254</td></tr>\n",
              "\t<tr><td>2014</td><td>12</td><td>X4</td><td>43</td><td>37</td><td>30</td><td>24</td><td>21</td><td>13</td><td>69 </td><td>⋯</td><td>10</td><td>10</td><td>10</td><td>25</td><td>12</td><td>33</td><td>0.00</td><td>3</td><td>         </td><td>292</td></tr>\n",
              "\t<tr><td>2014</td><td>12</td><td>X5</td><td>42</td><td>34</td><td>26</td><td>37</td><td>25</td><td>12</td><td>85 </td><td>⋯</td><td>10</td><td>10</td><td>5 </td><td>22</td><td>10</td><td>26</td><td>0.11</td><td>5</td><td>Rain     </td><td>61 </td></tr>\n",
              "\t<tr><td>2014</td><td>12</td><td>X6</td><td>45</td><td>42</td><td>38</td><td>45</td><td>40</td><td>36</td><td>100</td><td>⋯</td><td>10</td><td>4 </td><td>0 </td><td>22</td><td>8 </td><td>25</td><td>1.09</td><td>8</td><td>Rain     </td><td>313</td></tr>\n",
              "</tbody>\n",
              "</table>\n"
            ]
          },
          "metadata": {
            "tags": []
          }
        }
      ]
    },
    {
      "cell_type": "markdown",
      "metadata": {
        "id": "I8FGKHyoa0eI"
      },
      "source": [
        "There are couple of things still odd in this dataset. One of them is name of the days. They start with an `X`. We can fix it by `str_replace` function. In following weeks, we are going to cover it in detail when we cover the strings. Let me quickly remind you the usage:"
      ]
    },
    {
      "cell_type": "code",
      "metadata": {
        "scrolled": false,
        "colab": {
          "base_uri": "https://localhost:8080/"
        },
        "id": "2GwLcPbua0eJ",
        "outputId": "fe401899-912c-4a00-bbc3-29b209c6d984"
      },
      "source": [
        "# Replace $ with nothing, so it removes the dollar sign\n",
        "cost = c(\"$8\", \"12.5$\", \"$45\")\n",
        "cost = str_replace_all(cost, \"\\\\$\", \"\")\n",
        "print(cost) \n",
        "\n",
        "#change its type to numeric\n",
        "cost = as.numeric(cost)\n",
        "print(cost)"
      ],
      "execution_count": 13,
      "outputs": [
        {
          "output_type": "stream",
          "text": [
            "[1] \"8\"    \"12.5\" \"45\"  \n",
            "[1]  8.0 12.5 45.0\n"
          ],
          "name": "stdout"
        }
      ]
    },
    {
      "cell_type": "markdown",
      "metadata": {
        "id": "LeInmDEya0eK"
      },
      "source": [
        "#### Exercise 1: Remove `X` from the `day` entries and change its type to `numeric`"
      ]
    },
    {
      "cell_type": "code",
      "metadata": {
        "scrolled": true,
        "id": "WYH02JSSa0eL"
      },
      "source": [
        ""
      ],
      "execution_count": 14,
      "outputs": []
    },
    {
      "cell_type": "markdown",
      "metadata": {
        "id": "uNNe0q1Ta0eL"
      },
      "source": [
        "#### Exercise 2: Combine the year, month, and day columns into a new column called date. Hint: Use `unite` function"
      ]
    },
    {
      "cell_type": "code",
      "metadata": {
        "id": "zaP--kfWa0eM"
      },
      "source": [
        ""
      ],
      "execution_count": 15,
      "outputs": []
    },
    {
      "cell_type": "markdown",
      "metadata": {
        "id": "4usIfOIma0eM"
      },
      "source": [
        "#### Exercise 3: Move events variable to the second column (Just after the `date`)"
      ]
    },
    {
      "cell_type": "code",
      "metadata": {
        "id": "UZt-dNhca0eN"
      },
      "source": [
        ""
      ],
      "execution_count": 16,
      "outputs": []
    },
    {
      "cell_type": "markdown",
      "metadata": {
        "id": "mCBSvurwa0eN"
      },
      "source": [
        "#### Exercise 4: `PrecipitationIn` has “T”s (Trace). “Traces” in precipitation are defined as less than 0.005 inch. So, in this case, we need to map “T”s to 0."
      ]
    },
    {
      "cell_type": "code",
      "metadata": {
        "scrolled": true,
        "id": "tOw01zxFa0eP"
      },
      "source": [
        ""
      ],
      "execution_count": 17,
      "outputs": []
    },
    {
      "cell_type": "markdown",
      "metadata": {
        "id": "TUxRfAl-a0eW"
      },
      "source": [
        "#### Exercise 5: Other then events, all measures are numeric but coded as chracter. Convert them to numeric"
      ]
    },
    {
      "cell_type": "code",
      "metadata": {
        "scrolled": true,
        "id": "d48uc5NSa0eY"
      },
      "source": [
        ""
      ],
      "execution_count": 21,
      "outputs": []
    },
    {
      "cell_type": "markdown",
      "metadata": {
        "id": "V9WqhPHja0eZ"
      },
      "source": [
        "#### Exercise 6: What are the unique events in the dataset?"
      ]
    },
    {
      "cell_type": "code",
      "metadata": {
        "scrolled": true,
        "id": "WGPngMEva0ea"
      },
      "source": [
        ""
      ],
      "execution_count": 19,
      "outputs": []
    },
    {
      "cell_type": "markdown",
      "metadata": {
        "id": "lMxdhwyPa0eb"
      },
      "source": [
        "#### Exercise 7: Empty entry means, there is no event. Change it to `Clear`"
      ]
    },
    {
      "cell_type": "code",
      "metadata": {
        "id": "wQ4mJ-u_a0eb"
      },
      "source": [
        ""
      ],
      "execution_count": 20,
      "outputs": []
    },
    {
      "cell_type": "markdown",
      "metadata": {
        "id": "8PIZbGWHa0ec"
      },
      "source": [
        "Reference: [Cleaning Messy Weather Dataset with tidyverse](https://www.rpubs.com/justinhtet/cleaning-messy-weather-dataset-with-tidyverse)"
      ]
    }
  ]
}