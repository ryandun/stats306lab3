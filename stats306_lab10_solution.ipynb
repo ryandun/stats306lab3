{
  "nbformat": 4,
  "nbformat_minor": 0,
  "metadata": {
    "kernelspec": {
      "display_name": "R",
      "language": "R",
      "name": "ir"
    },
    "language_info": {
      "codemirror_mode": "r",
      "file_extension": ".r",
      "mimetype": "text/x-r-source",
      "name": "R",
      "pygments_lexer": "r",
      "version": "3.6.1"
    },
    "colab": {
      "name": "stats306_lab10_solution.ipynb",
      "provenance": [],
      "collapsed_sections": []
    }
  },
  "cells": [
    {
      "cell_type": "markdown",
      "metadata": {
        "id": "N6qet7MQcfCt"
      },
      "source": [
        "# Lab 10: Lists, Loops, Functions, Mapping\n",
        "### Last lab of the semester! You did it!!!"
      ]
    },
    {
      "cell_type": "code",
      "metadata": {
        "colab": {
          "base_uri": "https://localhost:8080/"
        },
        "id": "ydYGcQICcfCx",
        "outputId": "7e6b6032-3025-4bc6-92d2-8db53349e5b4"
      },
      "source": [
        "library(tidyverse)"
      ],
      "execution_count": 1,
      "outputs": [
        {
          "output_type": "stream",
          "text": [
            "Warning message in system(\"timedatectl\", intern = TRUE):\n",
            "“running command 'timedatectl' had status 1”\n",
            "── \u001b[1mAttaching packages\u001b[22m ─────────────────────────────────────── tidyverse 1.3.0 ──\n",
            "\n",
            "\u001b[32m✔\u001b[39m \u001b[34mggplot2\u001b[39m 3.3.3     \u001b[32m✔\u001b[39m \u001b[34mpurrr  \u001b[39m 0.3.4\n",
            "\u001b[32m✔\u001b[39m \u001b[34mtibble \u001b[39m 3.1.0     \u001b[32m✔\u001b[39m \u001b[34mdplyr  \u001b[39m 1.0.5\n",
            "\u001b[32m✔\u001b[39m \u001b[34mtidyr  \u001b[39m 1.1.3     \u001b[32m✔\u001b[39m \u001b[34mstringr\u001b[39m 1.4.0\n",
            "\u001b[32m✔\u001b[39m \u001b[34mreadr  \u001b[39m 1.4.0     \u001b[32m✔\u001b[39m \u001b[34mforcats\u001b[39m 0.5.1\n",
            "\n",
            "── \u001b[1mConflicts\u001b[22m ────────────────────────────────────────── tidyverse_conflicts() ──\n",
            "\u001b[31m✖\u001b[39m \u001b[34mdplyr\u001b[39m::\u001b[32mfilter()\u001b[39m masks \u001b[34mstats\u001b[39m::filter()\n",
            "\u001b[31m✖\u001b[39m \u001b[34mdplyr\u001b[39m::\u001b[32mlag()\u001b[39m    masks \u001b[34mstats\u001b[39m::lag()\n",
            "\n"
          ],
          "name": "stderr"
        }
      ]
    },
    {
      "cell_type": "markdown",
      "metadata": {
        "id": "kg-bXvYPcfCz"
      },
      "source": [
        "## Q1: List operations\n"
      ]
    },
    {
      "cell_type": "markdown",
      "metadata": {
        "id": "gb6izh8ccfCz"
      },
      "source": [
        "### 1. How does `[[.]]` differ from `[.]` when you are subsetting a list?"
      ]
    },
    {
      "cell_type": "code",
      "metadata": {
        "id": "RVkO6IPrcfC0"
      },
      "source": [
        "x = list(1,2,3)"
      ],
      "execution_count": 4,
      "outputs": []
    },
    {
      "cell_type": "code",
      "metadata": {
        "colab": {
          "base_uri": "https://localhost:8080/",
          "height": 77
        },
        "id": "ju_5iFLscfC1",
        "outputId": "bbc8cd13-d332-42a9-96cf-cd376d0b2a06"
      },
      "source": [
        "x[1] # A slice from the list, still a list\n",
        "class(x[1]) "
      ],
      "execution_count": 5,
      "outputs": [
        {
          "output_type": "display_data",
          "data": {
            "text/plain": [
              "[[1]]\n",
              "[1] 1\n"
            ],
            "text/latex": "\\begin{enumerate}\n\\item 1\n\\end{enumerate}\n",
            "text/markdown": "1. 1\n\n\n",
            "text/html": [
              "<ol>\n",
              "\t<li>1</li>\n",
              "</ol>\n"
            ]
          },
          "metadata": {
            "tags": []
          }
        },
        {
          "output_type": "display_data",
          "data": {
            "text/plain": [
              "[1] \"list\""
            ],
            "text/latex": "'list'",
            "text/markdown": "'list'",
            "text/html": [
              "'list'"
            ]
          },
          "metadata": {
            "tags": []
          }
        }
      ]
    },
    {
      "cell_type": "code",
      "metadata": {
        "colab": {
          "base_uri": "https://localhost:8080/",
          "height": 49
        },
        "id": "CvwqJV8zcfC3",
        "outputId": "4cf4c5d4-4ccb-4ecb-d861-cb66beb77428"
      },
      "source": [
        "x[[1]] # Accessing first element of the list\n",
        "class(x[[1]])"
      ],
      "execution_count": 6,
      "outputs": [
        {
          "output_type": "display_data",
          "data": {
            "text/plain": [
              "[1] 1"
            ],
            "text/latex": "1",
            "text/markdown": "1",
            "text/html": [
              "1"
            ]
          },
          "metadata": {
            "tags": []
          }
        },
        {
          "output_type": "display_data",
          "data": {
            "text/plain": [
              "[1] \"numeric\""
            ],
            "text/latex": "'numeric'",
            "text/markdown": "'numeric'",
            "text/html": [
              "'numeric'"
            ]
          },
          "metadata": {
            "tags": []
          }
        }
      ]
    },
    {
      "cell_type": "markdown",
      "metadata": {
        "id": "JXGEwPE7cfC5"
      },
      "source": [
        "### 2. How do you extract the last value of an atomic vector?\n"
      ]
    },
    {
      "cell_type": "code",
      "metadata": {
        "colab": {
          "base_uri": "https://localhost:8080/",
          "height": 32
        },
        "id": "z4VpxCI9cfC6",
        "outputId": "618a43e8-8730-487e-80e3-c11f3e17c404"
      },
      "source": [
        "x  = c(-3,-2,-1)\n",
        "x[length(x)]"
      ],
      "execution_count": 7,
      "outputs": [
        {
          "output_type": "display_data",
          "data": {
            "text/plain": [
              "[1] -1"
            ],
            "text/latex": "-1",
            "text/markdown": "-1",
            "text/html": [
              "-1"
            ]
          },
          "metadata": {
            "tags": []
          }
        }
      ]
    },
    {
      "cell_type": "markdown",
      "metadata": {
        "id": "hnQSQot3cfC7"
      },
      "source": [
        "### 3. How do you extract every value but the last value of an atomic vector?"
      ]
    },
    {
      "cell_type": "code",
      "metadata": {
        "colab": {
          "base_uri": "https://localhost:8080/",
          "height": 32
        },
        "id": "LFlURBAMcfC8",
        "outputId": "703465d0-39f5-4ebb-d688-717fa2fec574"
      },
      "source": [
        "x[-length(x)]"
      ],
      "execution_count": 8,
      "outputs": [
        {
          "output_type": "display_data",
          "data": {
            "text/plain": [
              "[1] -3 -2"
            ],
            "text/latex": "\\begin{enumerate*}\n\\item -3\n\\item -2\n\\end{enumerate*}\n",
            "text/markdown": "1. -3\n2. -2\n\n\n",
            "text/html": [
              "<style>\n",
              ".list-inline {list-style: none; margin:0; padding: 0}\n",
              ".list-inline>li {display: inline-block}\n",
              ".list-inline>li:not(:last-child)::after {content: \"\\00b7\"; padding: 0 .5ex}\n",
              "</style>\n",
              "<ol class=list-inline><li>-3</li><li>-2</li></ol>\n"
            ]
          },
          "metadata": {
            "tags": []
          }
        }
      ]
    },
    {
      "cell_type": "markdown",
      "metadata": {
        "id": "vu41qw2vcfC9"
      },
      "source": [
        "### 4. Why is `x[-which(x > 0)]` not the same as `x[x <= 0]` where `x` is an atomic vector?"
      ]
    },
    {
      "cell_type": "code",
      "metadata": {
        "colab": {
          "base_uri": "https://localhost:8080/"
        },
        "id": "GA16oQ6icfC9",
        "outputId": "9863b40c-9a6b-4f2e-e7d2-8323d9f6853c"
      },
      "source": [
        "print(x[-which(x > 0)])\n",
        "print(x[x<=0])"
      ],
      "execution_count": 9,
      "outputs": [
        {
          "output_type": "stream",
          "text": [
            "numeric(0)\n",
            "[1] -3 -2 -1\n"
          ],
          "name": "stdout"
        }
      ]
    },
    {
      "cell_type": "code",
      "metadata": {
        "colab": {
          "base_uri": "https://localhost:8080/",
          "height": 16
        },
        "id": "BNniw3WKcfC_",
        "outputId": "0fb09431-c69b-4ba5-8104-3a00ca55d0dd"
      },
      "source": [
        "which(x > 0) # returns empty "
      ],
      "execution_count": 10,
      "outputs": [
        {
          "output_type": "display_data",
          "data": {
            "text/plain": [
              "integer(0)"
            ],
            "text/latex": "",
            "text/markdown": "",
            "text/html": [
              ""
            ]
          },
          "metadata": {
            "tags": []
          }
        }
      ]
    },
    {
      "cell_type": "code",
      "metadata": {
        "id": "tH0AAKflcfDB",
        "outputId": "7596b2d8-08a6-44ec-afa8-64a097ee337e"
      },
      "source": [
        "x<=0"
      ],
      "execution_count": null,
      "outputs": [
        {
          "output_type": "display_data",
          "data": {
            "text/html": [
              "<style>\n",
              ".list-inline {list-style: none; margin:0; padding: 0}\n",
              ".list-inline>li {display: inline-block}\n",
              ".list-inline>li:not(:last-child)::after {content: \"\\00b7\"; padding: 0 .5ex}\n",
              "</style>\n",
              "<ol class=list-inline><li>TRUE</li><li>TRUE</li><li>TRUE</li></ol>\n"
            ],
            "text/latex": "\\begin{enumerate*}\n\\item TRUE\n\\item TRUE\n\\item TRUE\n\\end{enumerate*}\n",
            "text/markdown": "1. TRUE\n2. TRUE\n3. TRUE\n\n\n",
            "text/plain": [
              "[1] TRUE TRUE TRUE"
            ]
          },
          "metadata": {
            "tags": []
          }
        }
      ]
    },
    {
      "cell_type": "markdown",
      "metadata": {
        "id": "jr7jWqxIcfDC"
      },
      "source": [
        "It would work if `which` condition is not empty!"
      ]
    },
    {
      "cell_type": "code",
      "metadata": {
        "colab": {
          "base_uri": "https://localhost:8080/"
        },
        "id": "F8a5M_CfcfDC",
        "outputId": "5ba567b7-b8d3-414b-9a84-42a6cb83ca12"
      },
      "source": [
        "x  = c(-3,-2,-1, 1)\n",
        "print(x[-which(x > 0)])\n",
        "print(x[x<=0])"
      ],
      "execution_count": 11,
      "outputs": [
        {
          "output_type": "stream",
          "text": [
            "[1] -3 -2 -1\n",
            "[1] -3 -2 -1\n"
          ],
          "name": "stdout"
        }
      ]
    },
    {
      "cell_type": "markdown",
      "metadata": {
        "id": "hOldyLyccfDE"
      },
      "source": [
        "## Q2: While Loops: \n",
        "\n",
        "### 1. Generate random numbers from Normal(0, 1) and stop when you have more positive values than negatives. Write a function that implements above algortihm and returns number of iterations.\n",
        "Algorithm:\n",
        "1. set pc = 0 and nc = 0\n",
        "1. Generate Y~Normal(0,1)\n",
        "1. If Y>0 then pc = pc+1 otherwise nc = nc+1\n",
        "1. Repeat 2-3 until pc>nc"
      ]
    },
    {
      "cell_type": "code",
      "metadata": {
        "id": "wtIydqaGcfDF"
      },
      "source": [
        "f = function(){\n",
        "    \n",
        "    positive_counter = 0\n",
        "    negative_counter = 0\n",
        "    while(positive_counter<=negative_counter){\n",
        "        x = rnorm(1, 0, 1)\n",
        "        if(x>0){\n",
        "            positive_counter = positive_counter + 1\n",
        "        }else{\n",
        "            negative_counter = negative_counter + 1\n",
        "        }\n",
        "    }\n",
        "\n",
        "    total_iteration = negative_counter + positive_counter\n",
        "    \n",
        "    return(total_iteration)\n",
        "}"
      ],
      "execution_count": 12,
      "outputs": []
    },
    {
      "cell_type": "code",
      "metadata": {
        "colab": {
          "base_uri": "https://localhost:8080/",
          "height": 32
        },
        "id": "9_0WF__0cfDF",
        "outputId": "a3dcda71-51dd-4c85-9a4e-d3aad62ad63f"
      },
      "source": [
        "f()"
      ],
      "execution_count": 18,
      "outputs": [
        {
          "output_type": "display_data",
          "data": {
            "text/plain": [
              "[1] 119"
            ],
            "text/latex": "119",
            "text/markdown": "119",
            "text/html": [
              "119"
            ]
          },
          "metadata": {
            "tags": []
          }
        }
      ]
    },
    {
      "cell_type": "markdown",
      "metadata": {
        "id": "VxChNllscfDG"
      },
      "source": [
        "### 2. Call this function 100 times"
      ]
    },
    {
      "cell_type": "code",
      "metadata": {
        "colab": {
          "base_uri": "https://localhost:8080/",
          "height": 65
        },
        "id": "88Kr6hcYcfDH",
        "outputId": "a48593fc-75ae-400b-931b-ec1d9d6086f1"
      },
      "source": [
        "x = map_dbl(1:100, ~f())\n",
        "x"
      ],
      "execution_count": 19,
      "outputs": [
        {
          "output_type": "display_data",
          "data": {
            "text/plain": [
              "  [1]      1     33     99      1     69      1      5      1      9      1\n",
              " [11]     33      3   4105      5 212623      3      1      1      3   1879\n",
              " [21]      1     17      1      3    531      1      1   1389     75      3\n",
              " [31]      1      1      1     11      1      7      1      3     11      1\n",
              " [41]      1    331      1      1     41      5      1      1      3      5\n",
              " [51]      1      3      1    307      1      1      1      1     71     11\n",
              " [61]      1      5      7      1      1      3     11    235   1069      3\n",
              " [71]      5      3      1     23      3      1      1    397     11     11\n",
              " [81]     35      1     11     49      1      1      3     19    493     69\n",
              " [91]    119     25      1      7  19991      1      3     11      1     21"
            ],
            "text/latex": "\\begin{enumerate*}\n\\item 1\n\\item 33\n\\item 99\n\\item 1\n\\item 69\n\\item 1\n\\item 5\n\\item 1\n\\item 9\n\\item 1\n\\item 33\n\\item 3\n\\item 4105\n\\item 5\n\\item 212623\n\\item 3\n\\item 1\n\\item 1\n\\item 3\n\\item 1879\n\\item 1\n\\item 17\n\\item 1\n\\item 3\n\\item 531\n\\item 1\n\\item 1\n\\item 1389\n\\item 75\n\\item 3\n\\item 1\n\\item 1\n\\item 1\n\\item 11\n\\item 1\n\\item 7\n\\item 1\n\\item 3\n\\item 11\n\\item 1\n\\item 1\n\\item 331\n\\item 1\n\\item 1\n\\item 41\n\\item 5\n\\item 1\n\\item 1\n\\item 3\n\\item 5\n\\item 1\n\\item 3\n\\item 1\n\\item 307\n\\item 1\n\\item 1\n\\item 1\n\\item 1\n\\item 71\n\\item 11\n\\item 1\n\\item 5\n\\item 7\n\\item 1\n\\item 1\n\\item 3\n\\item 11\n\\item 235\n\\item 1069\n\\item 3\n\\item 5\n\\item 3\n\\item 1\n\\item 23\n\\item 3\n\\item 1\n\\item 1\n\\item 397\n\\item 11\n\\item 11\n\\item 35\n\\item 1\n\\item 11\n\\item 49\n\\item 1\n\\item 1\n\\item 3\n\\item 19\n\\item 493\n\\item 69\n\\item 119\n\\item 25\n\\item 1\n\\item 7\n\\item 19991\n\\item 1\n\\item 3\n\\item 11\n\\item 1\n\\item 21\n\\end{enumerate*}\n",
            "text/markdown": "1. 1\n2. 33\n3. 99\n4. 1\n5. 69\n6. 1\n7. 5\n8. 1\n9. 9\n10. 1\n11. 33\n12. 3\n13. 4105\n14. 5\n15. 212623\n16. 3\n17. 1\n18. 1\n19. 3\n20. 1879\n21. 1\n22. 17\n23. 1\n24. 3\n25. 531\n26. 1\n27. 1\n28. 1389\n29. 75\n30. 3\n31. 1\n32. 1\n33. 1\n34. 11\n35. 1\n36. 7\n37. 1\n38. 3\n39. 11\n40. 1\n41. 1\n42. 331\n43. 1\n44. 1\n45. 41\n46. 5\n47. 1\n48. 1\n49. 3\n50. 5\n51. 1\n52. 3\n53. 1\n54. 307\n55. 1\n56. 1\n57. 1\n58. 1\n59. 71\n60. 11\n61. 1\n62. 5\n63. 7\n64. 1\n65. 1\n66. 3\n67. 11\n68. 235\n69. 1069\n70. 3\n71. 5\n72. 3\n73. 1\n74. 23\n75. 3\n76. 1\n77. 1\n78. 397\n79. 11\n80. 11\n81. 35\n82. 1\n83. 11\n84. 49\n85. 1\n86. 1\n87. 3\n88. 19\n89. 493\n90. 69\n91. 119\n92. 25\n93. 1\n94. 7\n95. 19991\n96. 1\n97. 3\n98. 11\n99. 1\n100. 21\n\n\n",
            "text/html": [
              "<style>\n",
              ".list-inline {list-style: none; margin:0; padding: 0}\n",
              ".list-inline>li {display: inline-block}\n",
              ".list-inline>li:not(:last-child)::after {content: \"\\00b7\"; padding: 0 .5ex}\n",
              "</style>\n",
              "<ol class=list-inline><li>1</li><li>33</li><li>99</li><li>1</li><li>69</li><li>1</li><li>5</li><li>1</li><li>9</li><li>1</li><li>33</li><li>3</li><li>4105</li><li>5</li><li>212623</li><li>3</li><li>1</li><li>1</li><li>3</li><li>1879</li><li>1</li><li>17</li><li>1</li><li>3</li><li>531</li><li>1</li><li>1</li><li>1389</li><li>75</li><li>3</li><li>1</li><li>1</li><li>1</li><li>11</li><li>1</li><li>7</li><li>1</li><li>3</li><li>11</li><li>1</li><li>1</li><li>331</li><li>1</li><li>1</li><li>41</li><li>5</li><li>1</li><li>1</li><li>3</li><li>5</li><li>1</li><li>3</li><li>1</li><li>307</li><li>1</li><li>1</li><li>1</li><li>1</li><li>71</li><li>11</li><li>1</li><li>5</li><li>7</li><li>1</li><li>1</li><li>3</li><li>11</li><li>235</li><li>1069</li><li>3</li><li>5</li><li>3</li><li>1</li><li>23</li><li>3</li><li>1</li><li>1</li><li>397</li><li>11</li><li>11</li><li>35</li><li>1</li><li>11</li><li>49</li><li>1</li><li>1</li><li>3</li><li>19</li><li>493</li><li>69</li><li>119</li><li>25</li><li>1</li><li>7</li><li>19991</li><li>1</li><li>3</li><li>11</li><li>1</li><li>21</li></ol>\n"
            ]
          },
          "metadata": {
            "tags": []
          }
        }
      ]
    },
    {
      "cell_type": "markdown",
      "metadata": {
        "id": "1913Ur-5cfDI"
      },
      "source": [
        "## Q3: For Loops"
      ]
    },
    {
      "cell_type": "markdown",
      "metadata": {
        "id": "aK7zewNDcfDJ"
      },
      "source": [
        "### 1. Compute the mean of every column in mtcars with na.rm argument being true"
      ]
    },
    {
      "cell_type": "code",
      "metadata": {
        "colab": {
          "base_uri": "https://localhost:8080/",
          "height": 32
        },
        "id": "rQxcyUtKcfDK",
        "outputId": "34ef4435-670e-45ab-a3eb-f3dd79328892"
      },
      "source": [
        "mtcars_mean = vector('double')\n",
        "for (i in seq_along(mtcars)){\n",
        "    mtcars_mean[i] = mean(mtcars[[i]], na.rm = TRUE)\n",
        "}\n",
        "mtcars_mean"
      ],
      "execution_count": 23,
      "outputs": [
        {
          "output_type": "display_data",
          "data": {
            "text/plain": [
              " [1]  20.090625   6.187500 230.721875 146.687500   3.596563   3.217250\n",
              " [7]  17.848750   0.437500   0.406250   3.687500   2.812500"
            ],
            "text/latex": "\\begin{enumerate*}\n\\item 20.090625\n\\item 6.1875\n\\item 230.721875\n\\item 146.6875\n\\item 3.5965625\n\\item 3.21725\n\\item 17.84875\n\\item 0.4375\n\\item 0.40625\n\\item 3.6875\n\\item 2.8125\n\\end{enumerate*}\n",
            "text/markdown": "1. 20.090625\n2. 6.1875\n3. 230.721875\n4. 146.6875\n5. 3.5965625\n6. 3.21725\n7. 17.84875\n8. 0.4375\n9. 0.40625\n10. 3.6875\n11. 2.8125\n\n\n",
            "text/html": [
              "<style>\n",
              ".list-inline {list-style: none; margin:0; padding: 0}\n",
              ".list-inline>li {display: inline-block}\n",
              ".list-inline>li:not(:last-child)::after {content: \"\\00b7\"; padding: 0 .5ex}\n",
              "</style>\n",
              "<ol class=list-inline><li>20.090625</li><li>6.1875</li><li>230.721875</li><li>146.6875</li><li>3.5965625</li><li>3.21725</li><li>17.84875</li><li>0.4375</li><li>0.40625</li><li>3.6875</li><li>2.8125</li></ol>\n"
            ]
          },
          "metadata": {
            "tags": []
          }
        }
      ]
    },
    {
      "cell_type": "code",
      "metadata": {
        "colab": {
          "base_uri": "https://localhost:8080/",
          "height": 49
        },
        "id": "p6ieFKcCgvzS",
        "outputId": "db5e7d46-794a-4562-9823-4199b6b3193d"
      },
      "source": [
        "seq_along(mtcars)\n",
        "1:ncol(mtcars)"
      ],
      "execution_count": 25,
      "outputs": [
        {
          "output_type": "display_data",
          "data": {
            "text/plain": [
              " [1]  1  2  3  4  5  6  7  8  9 10 11"
            ],
            "text/latex": "\\begin{enumerate*}\n\\item 1\n\\item 2\n\\item 3\n\\item 4\n\\item 5\n\\item 6\n\\item 7\n\\item 8\n\\item 9\n\\item 10\n\\item 11\n\\end{enumerate*}\n",
            "text/markdown": "1. 1\n2. 2\n3. 3\n4. 4\n5. 5\n6. 6\n7. 7\n8. 8\n9. 9\n10. 10\n11. 11\n\n\n",
            "text/html": [
              "<style>\n",
              ".list-inline {list-style: none; margin:0; padding: 0}\n",
              ".list-inline>li {display: inline-block}\n",
              ".list-inline>li:not(:last-child)::after {content: \"\\00b7\"; padding: 0 .5ex}\n",
              "</style>\n",
              "<ol class=list-inline><li>1</li><li>2</li><li>3</li><li>4</li><li>5</li><li>6</li><li>7</li><li>8</li><li>9</li><li>10</li><li>11</li></ol>\n"
            ]
          },
          "metadata": {
            "tags": []
          }
        },
        {
          "output_type": "display_data",
          "data": {
            "text/plain": [
              " [1]  1  2  3  4  5  6  7  8  9 10 11"
            ],
            "text/latex": "\\begin{enumerate*}\n\\item 1\n\\item 2\n\\item 3\n\\item 4\n\\item 5\n\\item 6\n\\item 7\n\\item 8\n\\item 9\n\\item 10\n\\item 11\n\\end{enumerate*}\n",
            "text/markdown": "1. 1\n2. 2\n3. 3\n4. 4\n5. 5\n6. 6\n7. 7\n8. 8\n9. 9\n10. 10\n11. 11\n\n\n",
            "text/html": [
              "<style>\n",
              ".list-inline {list-style: none; margin:0; padding: 0}\n",
              ".list-inline>li {display: inline-block}\n",
              ".list-inline>li:not(:last-child)::after {content: \"\\00b7\"; padding: 0 .5ex}\n",
              "</style>\n",
              "<ol class=list-inline><li>1</li><li>2</li><li>3</li><li>4</li><li>5</li><li>6</li><li>7</li><li>8</li><li>9</li><li>10</li><li>11</li></ol>\n"
            ]
          },
          "metadata": {
            "tags": []
          }
        }
      ]
    },
    {
      "cell_type": "markdown",
      "metadata": {
        "id": "06eIqz-YcfDL"
      },
      "source": [
        "### 2. Determine the type of each column of iris\n"
      ]
    },
    {
      "cell_type": "code",
      "metadata": {
        "id": "4jlMOV-CcfDM",
        "outputId": "5a36e2a8-25fe-4ddb-c71a-f612f7c81773"
      },
      "source": [
        "ftype = vector('character')\n",
        "for (i in seq_along(iris)){\n",
        "    ftype[i] = typeof(iris[[i]])\n",
        "}\n",
        "ftype"
      ],
      "execution_count": null,
      "outputs": [
        {
          "output_type": "display_data",
          "data": {
            "text/html": [
              "<style>\n",
              ".list-inline {list-style: none; margin:0; padding: 0}\n",
              ".list-inline>li {display: inline-block}\n",
              ".list-inline>li:not(:last-child)::after {content: \"\\00b7\"; padding: 0 .5ex}\n",
              "</style>\n",
              "<ol class=list-inline><li>'double'</li><li>'double'</li><li>'double'</li><li>'double'</li><li>'integer'</li></ol>\n"
            ],
            "text/latex": "\\begin{enumerate*}\n\\item 'double'\n\\item 'double'\n\\item 'double'\n\\item 'double'\n\\item 'integer'\n\\end{enumerate*}\n",
            "text/markdown": "1. 'double'\n2. 'double'\n3. 'double'\n4. 'double'\n5. 'integer'\n\n\n",
            "text/plain": [
              "[1] \"double\"  \"double\"  \"double\"  \"double\"  \"integer\""
            ]
          },
          "metadata": {
            "tags": []
          }
        }
      ]
    },
    {
      "cell_type": "markdown",
      "metadata": {
        "id": "MQvcy2z2cfDM"
      },
      "source": [
        "### 3. Compute the number of unique values in each column of iris."
      ]
    },
    {
      "cell_type": "code",
      "metadata": {
        "id": "RBxPLMd4cfDN",
        "outputId": "35abe0f2-da1e-4181-9183-99e1dde4202d"
      },
      "source": [
        "irisuniq = vector('integer')\n",
        "for (i in seq_along(iris)){\n",
        "    irisuniq[i] = length(unique(iris[[i]]))\n",
        "}\n",
        "irisuniq"
      ],
      "execution_count": null,
      "outputs": [
        {
          "output_type": "display_data",
          "data": {
            "text/html": [
              "<style>\n",
              ".list-inline {list-style: none; margin:0; padding: 0}\n",
              ".list-inline>li {display: inline-block}\n",
              ".list-inline>li:not(:last-child)::after {content: \"\\00b7\"; padding: 0 .5ex}\n",
              "</style>\n",
              "<ol class=list-inline><li>35</li><li>23</li><li>43</li><li>22</li><li>3</li></ol>\n"
            ],
            "text/latex": "\\begin{enumerate*}\n\\item 35\n\\item 23\n\\item 43\n\\item 22\n\\item 3\n\\end{enumerate*}\n",
            "text/markdown": "1. 35\n2. 23\n3. 43\n4. 22\n5. 3\n\n\n",
            "text/plain": [
              "[1] 35 23 43 22  3"
            ]
          },
          "metadata": {
            "tags": []
          }
        }
      ]
    },
    {
      "cell_type": "markdown",
      "metadata": {
        "id": "DcZ1xshucfDO"
      },
      "source": [
        "## Q4: repeat Q3 with map functions rather than loops and apply:"
      ]
    },
    {
      "cell_type": "code",
      "metadata": {
        "id": "Zbw1dsV9cfDP",
        "outputId": "5372128b-3567-4ced-99a4-1404d8fbb2dc"
      },
      "source": [
        "map_dbl(mtcars, mean, na.rm = T)\n",
        "\n",
        "map_chr(iris, typeof)\n",
        "\n",
        "map_int(iris, ~ length(unique(.)))"
      ],
      "execution_count": null,
      "outputs": [
        {
          "output_type": "display_data",
          "data": {
            "text/html": [
              "<style>\n",
              ".dl-inline {width: auto; margin:0; padding: 0}\n",
              ".dl-inline>dt, .dl-inline>dd {float: none; width: auto; display: inline-block}\n",
              ".dl-inline>dt::after {content: \":\\0020\"; padding-right: .5ex}\n",
              ".dl-inline>dt:not(:first-of-type) {padding-left: .5ex}\n",
              "</style><dl class=dl-inline><dt>mpg</dt><dd>20.090625</dd><dt>cyl</dt><dd>6.1875</dd><dt>disp</dt><dd>230.721875</dd><dt>hp</dt><dd>146.6875</dd><dt>drat</dt><dd>3.5965625</dd><dt>wt</dt><dd>3.21725</dd><dt>qsec</dt><dd>17.84875</dd><dt>vs</dt><dd>0.4375</dd><dt>am</dt><dd>0.40625</dd><dt>gear</dt><dd>3.6875</dd><dt>carb</dt><dd>2.8125</dd></dl>\n"
            ],
            "text/latex": "\\begin{description*}\n\\item[mpg] 20.090625\n\\item[cyl] 6.1875\n\\item[disp] 230.721875\n\\item[hp] 146.6875\n\\item[drat] 3.5965625\n\\item[wt] 3.21725\n\\item[qsec] 17.84875\n\\item[vs] 0.4375\n\\item[am] 0.40625\n\\item[gear] 3.6875\n\\item[carb] 2.8125\n\\end{description*}\n",
            "text/markdown": "mpg\n:   20.090625cyl\n:   6.1875disp\n:   230.721875hp\n:   146.6875drat\n:   3.5965625wt\n:   3.21725qsec\n:   17.84875vs\n:   0.4375am\n:   0.40625gear\n:   3.6875carb\n:   2.8125\n\n",
            "text/plain": [
              "       mpg        cyl       disp         hp       drat         wt       qsec \n",
              " 20.090625   6.187500 230.721875 146.687500   3.596563   3.217250  17.848750 \n",
              "        vs         am       gear       carb \n",
              "  0.437500   0.406250   3.687500   2.812500 "
            ]
          },
          "metadata": {
            "tags": []
          }
        },
        {
          "output_type": "display_data",
          "data": {
            "text/html": [
              "<style>\n",
              ".dl-inline {width: auto; margin:0; padding: 0}\n",
              ".dl-inline>dt, .dl-inline>dd {float: none; width: auto; display: inline-block}\n",
              ".dl-inline>dt::after {content: \":\\0020\"; padding-right: .5ex}\n",
              ".dl-inline>dt:not(:first-of-type) {padding-left: .5ex}\n",
              "</style><dl class=dl-inline><dt>Sepal.Length</dt><dd>'double'</dd><dt>Sepal.Width</dt><dd>'double'</dd><dt>Petal.Length</dt><dd>'double'</dd><dt>Petal.Width</dt><dd>'double'</dd><dt>Species</dt><dd>'integer'</dd></dl>\n"
            ],
            "text/latex": "\\begin{description*}\n\\item[Sepal.Length] 'double'\n\\item[Sepal.Width] 'double'\n\\item[Petal.Length] 'double'\n\\item[Petal.Width] 'double'\n\\item[Species] 'integer'\n\\end{description*}\n",
            "text/markdown": "Sepal.Length\n:   'double'Sepal.Width\n:   'double'Petal.Length\n:   'double'Petal.Width\n:   'double'Species\n:   'integer'\n\n",
            "text/plain": [
              "Sepal.Length  Sepal.Width Petal.Length  Petal.Width      Species \n",
              "    \"double\"     \"double\"     \"double\"     \"double\"    \"integer\" "
            ]
          },
          "metadata": {
            "tags": []
          }
        },
        {
          "output_type": "display_data",
          "data": {
            "text/html": [
              "<style>\n",
              ".dl-inline {width: auto; margin:0; padding: 0}\n",
              ".dl-inline>dt, .dl-inline>dd {float: none; width: auto; display: inline-block}\n",
              ".dl-inline>dt::after {content: \":\\0020\"; padding-right: .5ex}\n",
              ".dl-inline>dt:not(:first-of-type) {padding-left: .5ex}\n",
              "</style><dl class=dl-inline><dt>Sepal.Length</dt><dd>35</dd><dt>Sepal.Width</dt><dd>23</dd><dt>Petal.Length</dt><dd>43</dd><dt>Petal.Width</dt><dd>22</dd><dt>Species</dt><dd>3</dd></dl>\n"
            ],
            "text/latex": "\\begin{description*}\n\\item[Sepal.Length] 35\n\\item[Sepal.Width] 23\n\\item[Petal.Length] 43\n\\item[Petal.Width] 22\n\\item[Species] 3\n\\end{description*}\n",
            "text/markdown": "Sepal.Length\n:   35Sepal.Width\n:   23Petal.Length\n:   43Petal.Width\n:   22Species\n:   3\n\n",
            "text/plain": [
              "Sepal.Length  Sepal.Width Petal.Length  Petal.Width      Species \n",
              "          35           23           43           22            3 "
            ]
          },
          "metadata": {
            "tags": []
          }
        }
      ]
    },
    {
      "cell_type": "markdown",
      "metadata": {
        "id": "Rrp2weT7cfDP"
      },
      "source": [
        "## Q5: Writing functions (recursions):"
      ]
    },
    {
      "cell_type": "markdown",
      "metadata": {
        "id": "EDnH1dkccfDR"
      },
      "source": [
        "Factorials: $n! = n(n-1)(n-2)\\dots1$\\\n",
        "factorial(n) = n*factorial(n-1)\\\n",
        "Base case: factorial(0) = 1"
      ]
    },
    {
      "cell_type": "code",
      "metadata": {
        "id": "BqxuLaJRcfDS"
      },
      "source": [
        "factorial = function(n){\n",
        "    if(n == 0){\n",
        "        return(1)\n",
        "    }else{\n",
        "        return(n*factorial(n-1))\n",
        "    }\n",
        "}"
      ],
      "execution_count": null,
      "outputs": []
    },
    {
      "cell_type": "code",
      "metadata": {
        "id": "jwNSoNXbcfDT",
        "outputId": "cf8b3e23-23d0-4c00-d8cb-bc16597ec64f"
      },
      "source": [
        "factorial(20)"
      ],
      "execution_count": null,
      "outputs": [
        {
          "output_type": "display_data",
          "data": {
            "text/html": [
              "2432902008176640000"
            ],
            "text/latex": "2432902008176640000",
            "text/markdown": "2432902008176640000",
            "text/plain": [
              "[1] 2.432902e+18"
            ]
          },
          "metadata": {
            "tags": []
          }
        }
      ]
    },
    {
      "cell_type": "markdown",
      "metadata": {
        "id": "wzL6GRZ0cfDT"
      },
      "source": [
        "### 1. Suppose Joe wants to climb n stairs, at each step, Joe can climb 1 stair or 2 stairs; write a function to find out many different ways are there for Joe to climb n stairs. Example: if n=3, then Joe has 3 ways: (1,1,1), (1,2), and (2,1)."
      ]
    },
    {
      "cell_type": "markdown",
      "metadata": {
        "id": "W_ZCqWKCcfDU"
      },
      "source": [
        "If there are 10 stairs initially after 1 step there could be 9 or 8 stairs ahead. So the process restarts with 9 or 8 stair after one step. Let's suppose we have a function that calculates number of differen ways, call this function `nways`, `nways(10) = nways(9) + nways(8)`. In general `nways(n) = nways(n-1)+nways(n-2)`. How about if only 1 step left? Then there is just 1 way to climb it so `nways(1) = 1`. If it is 2 then, It can be (1,1) or (2). Therefore `nways(2) = 2` and `nways(1) =  1`"
      ]
    },
    {
      "cell_type": "code",
      "metadata": {
        "colab": {
          "base_uri": "https://localhost:8080/",
          "height": 32
        },
        "id": "rZtSgFErcfDV",
        "outputId": "672b118e-ea7d-4de4-b4a5-04356afb6e0b"
      },
      "source": [
        "nways = function(n){\n",
        "    if (n == 1) return(1)\n",
        "    if (n == 2) return(2)\n",
        "    return(nways(n-1) + nways(n-2))\n",
        "}\n",
        "nways(20)"
      ],
      "execution_count": 26,
      "outputs": [
        {
          "output_type": "display_data",
          "data": {
            "text/plain": [
              "[1] 10946"
            ],
            "text/latex": "10946",
            "text/markdown": "10946",
            "text/html": [
              "10946"
            ]
          },
          "metadata": {
            "tags": []
          }
        }
      ]
    },
    {
      "cell_type": "code",
      "metadata": {
        "colab": {
          "base_uri": "https://localhost:8080/",
          "height": 32
        },
        "id": "2TyDikktkMVl",
        "outputId": "7e7ca990-748d-40fd-bcbb-e809e260949a"
      },
      "source": [
        "# say n = 4\n",
        "# n != 1 \n",
        "# n != 2\n",
        "# return nways(3) + nways(2)\n",
        "  # return (nways(2) + nways(1)) + 2\n",
        "    # return (2 + 1) + 2 = 5\n",
        "nways(4)"
      ],
      "execution_count": 27,
      "outputs": [
        {
          "output_type": "display_data",
          "data": {
            "text/plain": [
              "[1] 5"
            ],
            "text/latex": "5",
            "text/markdown": "5",
            "text/html": [
              "5"
            ]
          },
          "metadata": {
            "tags": []
          }
        }
      ]
    }
  ]
}