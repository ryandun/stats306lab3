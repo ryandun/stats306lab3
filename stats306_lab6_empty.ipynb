{
  "nbformat": 4,
  "nbformat_minor": 0,
  "metadata": {
    "kernelspec": {
      "display_name": "R",
      "language": "R",
      "name": "ir"
    },
    "language_info": {
      "codemirror_mode": "r",
      "file_extension": ".r",
      "mimetype": "text/x-r-source",
      "name": "R",
      "pygments_lexer": "r",
      "version": "3.6.1"
    },
    "colab": {
      "name": "stats306_lab8.ipynb",
      "provenance": [],
      "collapsed_sections": []
    }
  },
  "cells": [
    {
      "cell_type": "markdown",
      "metadata": {
        "id": "E7GWPq7f7XUj"
      },
      "source": [
        "# Lab 6: Covariance and longer and wider tables"
      ]
    },
    {
      "cell_type": "code",
      "metadata": {
        "colab": {
          "base_uri": "https://localhost:8080/"
        },
        "id": "Izi2MXVr7XUy",
        "outputId": "3d98264a-390a-445d-bbed-cd19d1fdcae6"
      },
      "source": [
        "library(tidyverse)\n",
        "install.packages(\"dslabs\")\n",
        "library(dslabs)"
      ],
      "execution_count": 3,
      "outputs": [
        {
          "output_type": "stream",
          "text": [
            "Installing package into ‘/usr/local/lib/R/site-library’\n",
            "(as ‘lib’ is unspecified)\n",
            "\n"
          ],
          "name": "stderr"
        }
      ]
    },
    {
      "cell_type": "markdown",
      "metadata": {
        "id": "x7HSLcSv7XU0"
      },
      "source": [
        "## 1. Covariance and Correlation"
      ]
    },
    {
      "cell_type": "markdown",
      "metadata": {
        "id": "UpHLgRak7XU0"
      },
      "source": [
        "$$Cov(X,Y) = E(XY) - E(X)E(Y)$$\n",
        "<br>\n",
        "$$Correlation(X,Y) = \\rho_{X,Y} = \\frac{Cov(X,Y)}{sd(X)sd(Y)}$$\n",
        "\n",
        "Couple of rules:\n",
        "* $Cov(X, X) = var(X)$\n",
        "* $Cov(X, aY+c) = aCov(X,Y)$ where $X$ and $Y$ are random variables, $a$ and $c$ are constants\n",
        "* If $X$ and $Y$ are independent than $Cov(X,Y) = 0$\n",
        "* $Var(aX+c) = a^2 Var(X)$"
      ]
    },
    {
      "cell_type": "markdown",
      "metadata": {
        "id": "VhRk0pSi7XU1"
      },
      "source": [
        "Example: Let $X$ and $Z$ be independent random variables and let $Y = 2X+Z+5$. What is $\\rho_{X, Y}$? (Suppose both $X$ and $Z$ are coming from $N(0,1)$)"
      ]
    },
    {
      "cell_type": "markdown",
      "metadata": {
        "id": "gTKIu4Xa7XU1"
      },
      "source": [
        "#### Theoretical solution:\n",
        "$$Cov(X, Y) = Cov(X, 2X+Z+5) = Cov(X, 2X)+Cov(X,Z)+Cov(X,5) = Cov(X,2X) = 2Var(X) = 2$$\n",
        "<br>\n",
        "$$Var(Y) = Var(2X+Z+5) = 4Var(X) + Var(Z) = 5$$\n",
        "<br>\n",
        "$$\\rho_{X, Y} = \\frac{Cov(X, Y)}{sd(X)sd(Y)} = \\frac{2Var(X)}{sd(X)sd(Y)} = \\frac{2}{\\sqrt{5}} = 0.89 $$"
      ]
    },
    {
      "cell_type": "markdown",
      "metadata": {
        "id": "V4ViNxwv7XU2"
      },
      "source": [
        "#### Empirical solution:"
      ]
    },
    {
      "cell_type": "code",
      "metadata": {
        "colab": {
          "base_uri": "https://localhost:8080/",
          "height": 32
        },
        "id": "fQbeXhgS7XU4",
        "outputId": "c12fa8e6-c780-4187-9625-09f8465707c7"
      },
      "source": [
        "set.seed(108)\n",
        "\n",
        "n = 100000\n",
        "X = rnorm(n)\n",
        "Z = rnorm(n)\n",
        "Y = 2*X + Z + 5\n",
        "\n",
        "cor(X,Y)"
      ],
      "execution_count": 4,
      "outputs": [
        {
          "output_type": "display_data",
          "data": {
            "text/plain": [
              "[1] 0.8946458"
            ],
            "text/latex": "0.894645766772789",
            "text/markdown": "0.894645766772789",
            "text/html": [
              "0.894645766772789"
            ]
          },
          "metadata": {
            "tags": []
          }
        }
      ]
    },
    {
      "cell_type": "markdown",
      "metadata": {
        "id": "RonMPE327XU5"
      },
      "source": [
        "#### In real data, we can usually only find the empirical solution--most of the time we do not know the underlying distribution."
      ]
    },
    {
      "cell_type": "code",
      "metadata": {
        "colab": {
          "base_uri": "https://localhost:8080/",
          "height": 248
        },
        "id": "fwaeKjwe7XU5",
        "outputId": "55fef76a-bf97-485b-eb44-0207ca2d51d9"
      },
      "source": [
        "gapminder %>% filter(year == 2011) %>% group_by(continent) %>% \n",
        "summarise(rho = cor(infant_mortality, life_expectancy))"
      ],
      "execution_count": 6,
      "outputs": [
        {
          "output_type": "display_data",
          "data": {
            "text/plain": [
              "  continent rho       \n",
              "1 Africa    -0.6300899\n",
              "2 Americas          NA\n",
              "3 Asia              NA\n",
              "4 Europe    -0.6746311\n",
              "5 Oceania           NA"
            ],
            "text/latex": "A tibble: 5 × 2\n\\begin{tabular}{r|ll}\n  & continent & rho\\\\\n  & <fct> & <dbl>\\\\\n\\hline\n\t1 & Africa   & -0.6300899\\\\\n\t2 & Americas &         NA\\\\\n\t3 & Asia     &         NA\\\\\n\t4 & Europe   & -0.6746311\\\\\n\t5 & Oceania  &         NA\\\\\n\\end{tabular}\n",
            "text/markdown": "\nA tibble: 5 × 2\n\n| <!--/--> | continent &lt;fct&gt; | rho &lt;dbl&gt; |\n|---|---|---|\n| 1 | Africa   | -0.6300899 |\n| 2 | Americas |         NA |\n| 3 | Asia     |         NA |\n| 4 | Europe   | -0.6746311 |\n| 5 | Oceania  |         NA |\n\n",
            "text/html": [
              "<table class=\"dataframe\">\n",
              "<caption>A tibble: 5 × 2</caption>\n",
              "<thead>\n",
              "\t<tr><th></th><th scope=col>continent</th><th scope=col>rho</th></tr>\n",
              "\t<tr><th></th><th scope=col>&lt;fct&gt;</th><th scope=col>&lt;dbl&gt;</th></tr>\n",
              "</thead>\n",
              "<tbody>\n",
              "\t<tr><th scope=row>1</th><td>Africa  </td><td>-0.6300899</td></tr>\n",
              "\t<tr><th scope=row>2</th><td>Americas</td><td>        NA</td></tr>\n",
              "\t<tr><th scope=row>3</th><td>Asia    </td><td>        NA</td></tr>\n",
              "\t<tr><th scope=row>4</th><td>Europe  </td><td>-0.6746311</td></tr>\n",
              "\t<tr><th scope=row>5</th><td>Oceania </td><td>        NA</td></tr>\n",
              "</tbody>\n",
              "</table>\n"
            ]
          },
          "metadata": {
            "tags": []
          }
        }
      ]
    },
    {
      "cell_type": "code",
      "metadata": {
        "id": "f4JDQHlNER1H"
      },
      "source": [
        "?cor"
      ],
      "execution_count": null,
      "outputs": []
    },
    {
      "cell_type": "markdown",
      "metadata": {
        "id": "uDmt3OZM7XU6"
      },
      "source": [
        "#### Exercise 1: Why there are `NA`s for some continents? How can you correct that?"
      ]
    },
    {
      "cell_type": "code",
      "metadata": {
        "id": "K0If7xXz7XU7"
      },
      "source": [
        ""
      ],
      "execution_count": 7,
      "outputs": []
    },
    {
      "cell_type": "markdown",
      "metadata": {
        "id": "kBclFdUV7XU7"
      },
      "source": [
        "## 1. Longer and Wider tables"
      ]
    },
    {
      "cell_type": "code",
      "metadata": {
        "scrolled": true,
        "colab": {
          "base_uri": "https://localhost:8080/",
          "height": 217
        },
        "id": "Gyuqi5kC7XU8",
        "outputId": "8b609f73-fb48-4f67-ba74-f4df1067dc0e"
      },
      "source": [
        "grades_wide = tribble(\n",
        "  ~name, ~Sex, ~`2015`, ~`2016`, ~`2017`,\n",
        "     'Wu',  'M', 83,      89,      93,\n",
        "  'Alice',  'F', 92,      90,      93,\n",
        " 'Jordan',   NA, 80,      87,      99,\n",
        " 'Gilberto','M', 67,      90,      92)\n",
        "grades_wide"
      ],
      "execution_count": 8,
      "outputs": [
        {
          "output_type": "display_data",
          "data": {
            "text/plain": [
              "  name     Sex 2015 2016 2017\n",
              "1 Wu       M   83   89   93  \n",
              "2 Alice    F   92   90   93  \n",
              "3 Jordan   NA  80   87   99  \n",
              "4 Gilberto M   67   90   92  "
            ],
            "text/latex": "A tibble: 4 × 5\n\\begin{tabular}{lllll}\n name & Sex & 2015 & 2016 & 2017\\\\\n <chr> & <chr> & <dbl> & <dbl> & <dbl>\\\\\n\\hline\n\t Wu       & M  & 83 & 89 & 93\\\\\n\t Alice    & F  & 92 & 90 & 93\\\\\n\t Jordan   & NA & 80 & 87 & 99\\\\\n\t Gilberto & M  & 67 & 90 & 92\\\\\n\\end{tabular}\n",
            "text/markdown": "\nA tibble: 4 × 5\n\n| name &lt;chr&gt; | Sex &lt;chr&gt; | 2015 &lt;dbl&gt; | 2016 &lt;dbl&gt; | 2017 &lt;dbl&gt; |\n|---|---|---|---|---|\n| Wu       | M  | 83 | 89 | 93 |\n| Alice    | F  | 92 | 90 | 93 |\n| Jordan   | NA | 80 | 87 | 99 |\n| Gilberto | M  | 67 | 90 | 92 |\n\n",
            "text/html": [
              "<table class=\"dataframe\">\n",
              "<caption>A tibble: 4 × 5</caption>\n",
              "<thead>\n",
              "\t<tr><th scope=col>name</th><th scope=col>Sex</th><th scope=col>2015</th><th scope=col>2016</th><th scope=col>2017</th></tr>\n",
              "\t<tr><th scope=col>&lt;chr&gt;</th><th scope=col>&lt;chr&gt;</th><th scope=col>&lt;dbl&gt;</th><th scope=col>&lt;dbl&gt;</th><th scope=col>&lt;dbl&gt;</th></tr>\n",
              "</thead>\n",
              "<tbody>\n",
              "\t<tr><td>Wu      </td><td>M </td><td>83</td><td>89</td><td>93</td></tr>\n",
              "\t<tr><td>Alice   </td><td>F </td><td>92</td><td>90</td><td>93</td></tr>\n",
              "\t<tr><td>Jordan  </td><td>NA</td><td>80</td><td>87</td><td>99</td></tr>\n",
              "\t<tr><td>Gilberto</td><td>M </td><td>67</td><td>90</td><td>92</td></tr>\n",
              "</tbody>\n",
              "</table>\n"
            ]
          },
          "metadata": {
            "tags": []
          }
        }
      ]
    },
    {
      "cell_type": "code",
      "metadata": {
        "colab": {
          "base_uri": "https://localhost:8080/",
          "height": 461
        },
        "id": "pghzvk5b7XU9",
        "outputId": "d7056f55-b598-424b-a474-385f0a3036ec"
      },
      "source": [
        "grades_long = grades_wide %>% \n",
        "pivot_longer(-c(name, Sex), names_to = \"year\", values_to = \"grades\")\n",
        "grades_long"
      ],
      "execution_count": 9,
      "outputs": [
        {
          "output_type": "display_data",
          "data": {
            "text/plain": [
              "   name     Sex year grades\n",
              "1  Wu       M   2015 83    \n",
              "2  Wu       M   2016 89    \n",
              "3  Wu       M   2017 93    \n",
              "4  Alice    F   2015 92    \n",
              "5  Alice    F   2016 90    \n",
              "6  Alice    F   2017 93    \n",
              "7  Jordan   NA  2015 80    \n",
              "8  Jordan   NA  2016 87    \n",
              "9  Jordan   NA  2017 99    \n",
              "10 Gilberto M   2015 67    \n",
              "11 Gilberto M   2016 90    \n",
              "12 Gilberto M   2017 92    "
            ],
            "text/latex": "A tibble: 12 × 4\n\\begin{tabular}{llll}\n name & Sex & year & grades\\\\\n <chr> & <chr> & <chr> & <dbl>\\\\\n\\hline\n\t Wu       & M  & 2015 & 83\\\\\n\t Wu       & M  & 2016 & 89\\\\\n\t Wu       & M  & 2017 & 93\\\\\n\t Alice    & F  & 2015 & 92\\\\\n\t Alice    & F  & 2016 & 90\\\\\n\t Alice    & F  & 2017 & 93\\\\\n\t Jordan   & NA & 2015 & 80\\\\\n\t Jordan   & NA & 2016 & 87\\\\\n\t Jordan   & NA & 2017 & 99\\\\\n\t Gilberto & M  & 2015 & 67\\\\\n\t Gilberto & M  & 2016 & 90\\\\\n\t Gilberto & M  & 2017 & 92\\\\\n\\end{tabular}\n",
            "text/markdown": "\nA tibble: 12 × 4\n\n| name &lt;chr&gt; | Sex &lt;chr&gt; | year &lt;chr&gt; | grades &lt;dbl&gt; |\n|---|---|---|---|\n| Wu       | M  | 2015 | 83 |\n| Wu       | M  | 2016 | 89 |\n| Wu       | M  | 2017 | 93 |\n| Alice    | F  | 2015 | 92 |\n| Alice    | F  | 2016 | 90 |\n| Alice    | F  | 2017 | 93 |\n| Jordan   | NA | 2015 | 80 |\n| Jordan   | NA | 2016 | 87 |\n| Jordan   | NA | 2017 | 99 |\n| Gilberto | M  | 2015 | 67 |\n| Gilberto | M  | 2016 | 90 |\n| Gilberto | M  | 2017 | 92 |\n\n",
            "text/html": [
              "<table class=\"dataframe\">\n",
              "<caption>A tibble: 12 × 4</caption>\n",
              "<thead>\n",
              "\t<tr><th scope=col>name</th><th scope=col>Sex</th><th scope=col>year</th><th scope=col>grades</th></tr>\n",
              "\t<tr><th scope=col>&lt;chr&gt;</th><th scope=col>&lt;chr&gt;</th><th scope=col>&lt;chr&gt;</th><th scope=col>&lt;dbl&gt;</th></tr>\n",
              "</thead>\n",
              "<tbody>\n",
              "\t<tr><td>Wu      </td><td>M </td><td>2015</td><td>83</td></tr>\n",
              "\t<tr><td>Wu      </td><td>M </td><td>2016</td><td>89</td></tr>\n",
              "\t<tr><td>Wu      </td><td>M </td><td>2017</td><td>93</td></tr>\n",
              "\t<tr><td>Alice   </td><td>F </td><td>2015</td><td>92</td></tr>\n",
              "\t<tr><td>Alice   </td><td>F </td><td>2016</td><td>90</td></tr>\n",
              "\t<tr><td>Alice   </td><td>F </td><td>2017</td><td>93</td></tr>\n",
              "\t<tr><td>Jordan  </td><td>NA</td><td>2015</td><td>80</td></tr>\n",
              "\t<tr><td>Jordan  </td><td>NA</td><td>2016</td><td>87</td></tr>\n",
              "\t<tr><td>Jordan  </td><td>NA</td><td>2017</td><td>99</td></tr>\n",
              "\t<tr><td>Gilberto</td><td>M </td><td>2015</td><td>67</td></tr>\n",
              "\t<tr><td>Gilberto</td><td>M </td><td>2016</td><td>90</td></tr>\n",
              "\t<tr><td>Gilberto</td><td>M </td><td>2017</td><td>92</td></tr>\n",
              "</tbody>\n",
              "</table>\n"
            ]
          },
          "metadata": {
            "tags": []
          }
        }
      ]
    },
    {
      "cell_type": "code",
      "metadata": {
        "colab": {
          "base_uri": "https://localhost:8080/",
          "height": 217
        },
        "id": "TzxF-sDC7XVA",
        "outputId": "29a81a9a-ec38-46ad-a6cd-7858c2ad2be1"
      },
      "source": [
        "grades_long %>%  pivot_wider(names_from = year, values_from = grades)"
      ],
      "execution_count": 10,
      "outputs": [
        {
          "output_type": "display_data",
          "data": {
            "text/plain": [
              "  name     Sex 2015 2016 2017\n",
              "1 Wu       M   83   89   93  \n",
              "2 Alice    F   92   90   93  \n",
              "3 Jordan   NA  80   87   99  \n",
              "4 Gilberto M   67   90   92  "
            ],
            "text/latex": "A tibble: 4 × 5\n\\begin{tabular}{lllll}\n name & Sex & 2015 & 2016 & 2017\\\\\n <chr> & <chr> & <dbl> & <dbl> & <dbl>\\\\\n\\hline\n\t Wu       & M  & 83 & 89 & 93\\\\\n\t Alice    & F  & 92 & 90 & 93\\\\\n\t Jordan   & NA & 80 & 87 & 99\\\\\n\t Gilberto & M  & 67 & 90 & 92\\\\\n\\end{tabular}\n",
            "text/markdown": "\nA tibble: 4 × 5\n\n| name &lt;chr&gt; | Sex &lt;chr&gt; | 2015 &lt;dbl&gt; | 2016 &lt;dbl&gt; | 2017 &lt;dbl&gt; |\n|---|---|---|---|---|\n| Wu       | M  | 83 | 89 | 93 |\n| Alice    | F  | 92 | 90 | 93 |\n| Jordan   | NA | 80 | 87 | 99 |\n| Gilberto | M  | 67 | 90 | 92 |\n\n",
            "text/html": [
              "<table class=\"dataframe\">\n",
              "<caption>A tibble: 4 × 5</caption>\n",
              "<thead>\n",
              "\t<tr><th scope=col>name</th><th scope=col>Sex</th><th scope=col>2015</th><th scope=col>2016</th><th scope=col>2017</th></tr>\n",
              "\t<tr><th scope=col>&lt;chr&gt;</th><th scope=col>&lt;chr&gt;</th><th scope=col>&lt;dbl&gt;</th><th scope=col>&lt;dbl&gt;</th><th scope=col>&lt;dbl&gt;</th></tr>\n",
              "</thead>\n",
              "<tbody>\n",
              "\t<tr><td>Wu      </td><td>M </td><td>83</td><td>89</td><td>93</td></tr>\n",
              "\t<tr><td>Alice   </td><td>F </td><td>92</td><td>90</td><td>93</td></tr>\n",
              "\t<tr><td>Jordan  </td><td>NA</td><td>80</td><td>87</td><td>99</td></tr>\n",
              "\t<tr><td>Gilberto</td><td>M </td><td>67</td><td>90</td><td>92</td></tr>\n",
              "</tbody>\n",
              "</table>\n"
            ]
          },
          "metadata": {
            "tags": []
          }
        }
      ]
    },
    {
      "cell_type": "markdown",
      "metadata": {
        "id": "o_Ccor457XVC"
      },
      "source": [
        "## MLB dataset"
      ]
    },
    {
      "cell_type": "code",
      "metadata": {
        "colab": {
          "base_uri": "https://localhost:8080/",
          "height": 557
        },
        "id": "FZ8YnXqX7XVE",
        "outputId": "43f4be94-47cd-4e2e-8b28-6148a0bd1016"
      },
      "source": [
        "mlb = read_csv('https://raw.githubusercontent.com/enesdilber/stats306_labs/master/lab5/mlb.csv')\n",
        "mlb %>% head"
      ],
      "execution_count": 11,
      "outputs": [
        {
          "output_type": "stream",
          "text": [
            "\n",
            "\u001b[36m──\u001b[39m \u001b[1m\u001b[1mColumn specification\u001b[1m\u001b[22m \u001b[36m────────────────────────────────────────────────────────\u001b[39m\n",
            "cols(\n",
            "  year = \u001b[32mcol_double()\u001b[39m,\n",
            "  name = \u001b[31mcol_character()\u001b[39m,\n",
            "  team = \u001b[31mcol_character()\u001b[39m,\n",
            "  division = \u001b[31mcol_character()\u001b[39m,\n",
            "  PA = \u001b[32mcol_double()\u001b[39m,\n",
            "  HR = \u001b[32mcol_double()\u001b[39m,\n",
            "  BBrate = \u001b[31mcol_character()\u001b[39m,\n",
            "  BB_K = \u001b[31mcol_character()\u001b[39m,\n",
            "  AVG = \u001b[32mcol_double()\u001b[39m,\n",
            "  FB = \u001b[32mcol_double()\u001b[39m,\n",
            "  playerid = \u001b[32mcol_double()\u001b[39m\n",
            ")\n",
            "\n",
            "\n"
          ],
          "name": "stderr"
        },
        {
          "output_type": "display_data",
          "data": {
            "text/plain": [
              "  year name            team    division PA  HR BBrate BB_K  AVG   FB playerid\n",
              "1 2016 Abraham Almonte Indians Central  194 1  4.1 %  8/42  0.264 43  5486   \n",
              "2 2017 Abraham Almonte Indians Central  195 3  10.3 % 20/46 0.233 34  5486   \n",
              "3 2015 Adam Moore      Indians Central    4 0  0.0 %  0/2   0.250  1  9362   \n",
              "4 2016 Adam Moore      Indians Central    5 0  0.0 %  0/4   0.000  1  9362   \n",
              "5 2018 Adam Plutko     Indians Central    2 0  0.0 %  0/0   0.000  0 15846   \n",
              "6 2018 Adam Rosales    Indians Central   21 1  4.8 %  1/5   0.211  7  9682   "
            ],
            "text/latex": "A tibble: 6 × 11\n\\begin{tabular}{lllllllllll}\n year & name & team & division & PA & HR & BBrate & BB\\_K & AVG & FB & playerid\\\\\n <dbl> & <chr> & <chr> & <chr> & <dbl> & <dbl> & <chr> & <chr> & <dbl> & <dbl> & <dbl>\\\\\n\\hline\n\t 2016 & Abraham Almonte & Indians & Central & 194 & 1 & 4.1 \\%  & 8/42  & 0.264 & 43 &  5486\\\\\n\t 2017 & Abraham Almonte & Indians & Central & 195 & 3 & 10.3 \\% & 20/46 & 0.233 & 34 &  5486\\\\\n\t 2015 & Adam Moore      & Indians & Central &   4 & 0 & 0.0 \\%  & 0/2   & 0.250 &  1 &  9362\\\\\n\t 2016 & Adam Moore      & Indians & Central &   5 & 0 & 0.0 \\%  & 0/4   & 0.000 &  1 &  9362\\\\\n\t 2018 & Adam Plutko     & Indians & Central &   2 & 0 & 0.0 \\%  & 0/0   & 0.000 &  0 & 15846\\\\\n\t 2018 & Adam Rosales    & Indians & Central &  21 & 1 & 4.8 \\%  & 1/5   & 0.211 &  7 &  9682\\\\\n\\end{tabular}\n",
            "text/markdown": "\nA tibble: 6 × 11\n\n| year &lt;dbl&gt; | name &lt;chr&gt; | team &lt;chr&gt; | division &lt;chr&gt; | PA &lt;dbl&gt; | HR &lt;dbl&gt; | BBrate &lt;chr&gt; | BB_K &lt;chr&gt; | AVG &lt;dbl&gt; | FB &lt;dbl&gt; | playerid &lt;dbl&gt; |\n|---|---|---|---|---|---|---|---|---|---|---|\n| 2016 | Abraham Almonte | Indians | Central | 194 | 1 | 4.1 %  | 8/42  | 0.264 | 43 |  5486 |\n| 2017 | Abraham Almonte | Indians | Central | 195 | 3 | 10.3 % | 20/46 | 0.233 | 34 |  5486 |\n| 2015 | Adam Moore      | Indians | Central |   4 | 0 | 0.0 %  | 0/2   | 0.250 |  1 |  9362 |\n| 2016 | Adam Moore      | Indians | Central |   5 | 0 | 0.0 %  | 0/4   | 0.000 |  1 |  9362 |\n| 2018 | Adam Plutko     | Indians | Central |   2 | 0 | 0.0 %  | 0/0   | 0.000 |  0 | 15846 |\n| 2018 | Adam Rosales    | Indians | Central |  21 | 1 | 4.8 %  | 1/5   | 0.211 |  7 |  9682 |\n\n",
            "text/html": [
              "<table class=\"dataframe\">\n",
              "<caption>A tibble: 6 × 11</caption>\n",
              "<thead>\n",
              "\t<tr><th scope=col>year</th><th scope=col>name</th><th scope=col>team</th><th scope=col>division</th><th scope=col>PA</th><th scope=col>HR</th><th scope=col>BBrate</th><th scope=col>BB_K</th><th scope=col>AVG</th><th scope=col>FB</th><th scope=col>playerid</th></tr>\n",
              "\t<tr><th scope=col>&lt;dbl&gt;</th><th scope=col>&lt;chr&gt;</th><th scope=col>&lt;chr&gt;</th><th scope=col>&lt;chr&gt;</th><th scope=col>&lt;dbl&gt;</th><th scope=col>&lt;dbl&gt;</th><th scope=col>&lt;chr&gt;</th><th scope=col>&lt;chr&gt;</th><th scope=col>&lt;dbl&gt;</th><th scope=col>&lt;dbl&gt;</th><th scope=col>&lt;dbl&gt;</th></tr>\n",
              "</thead>\n",
              "<tbody>\n",
              "\t<tr><td>2016</td><td>Abraham Almonte</td><td>Indians</td><td>Central</td><td>194</td><td>1</td><td>4.1 % </td><td>8/42 </td><td>0.264</td><td>43</td><td> 5486</td></tr>\n",
              "\t<tr><td>2017</td><td>Abraham Almonte</td><td>Indians</td><td>Central</td><td>195</td><td>3</td><td>10.3 %</td><td>20/46</td><td>0.233</td><td>34</td><td> 5486</td></tr>\n",
              "\t<tr><td>2015</td><td>Adam Moore     </td><td>Indians</td><td>Central</td><td>  4</td><td>0</td><td>0.0 % </td><td>0/2  </td><td>0.250</td><td> 1</td><td> 9362</td></tr>\n",
              "\t<tr><td>2016</td><td>Adam Moore     </td><td>Indians</td><td>Central</td><td>  5</td><td>0</td><td>0.0 % </td><td>0/4  </td><td>0.000</td><td> 1</td><td> 9362</td></tr>\n",
              "\t<tr><td>2018</td><td>Adam Plutko    </td><td>Indians</td><td>Central</td><td>  2</td><td>0</td><td>0.0 % </td><td>0/0  </td><td>0.000</td><td> 0</td><td>15846</td></tr>\n",
              "\t<tr><td>2018</td><td>Adam Rosales   </td><td>Indians</td><td>Central</td><td> 21</td><td>1</td><td>4.8 % </td><td>1/5  </td><td>0.211</td><td> 7</td><td> 9682</td></tr>\n",
              "</tbody>\n",
              "</table>\n"
            ]
          },
          "metadata": {
            "tags": []
          }
        }
      ]
    },
    {
      "cell_type": "markdown",
      "metadata": {
        "id": "GrJ8bMMv7XVF"
      },
      "source": [
        "#### Exercise 2: Calculate the `Home Run to Fly Ball rate (HR/FB)` in total for each team and year. That is $HR\\_FB = \\frac{\\sum HR_i}{\\sum FB_i}$. Make sure you have the division at the final dataset. So  you'll have `division`, `team`, `year` and `HR_FB`."
      ]
    },
    {
      "cell_type": "code",
      "metadata": {
        "id": "OXY2M7lH7XVF"
      },
      "source": [
        ""
      ],
      "execution_count": 12,
      "outputs": []
    },
    {
      "cell_type": "markdown",
      "metadata": {
        "id": "sRJ51Zoq7XVG"
      },
      "source": [
        " #### Exercise 3: Convert this to a wide dataset, so your variables should be `division`, `team`, and `2015-2018`, where values are the `HR/FB` rate. Note that, again, you should ensure that `division` is still in the dataset."
      ]
    },
    {
      "cell_type": "code",
      "metadata": {
        "id": "iJnrqb9E7XVH"
      },
      "source": [
        ""
      ],
      "execution_count": 13,
      "outputs": []
    },
    {
      "cell_type": "markdown",
      "metadata": {
        "id": "N1tcTLV67XVI"
      },
      "source": [
        " #### Exercise 4: Create a variable called `increased`, which checks if the `HR/FB` rate was higher in 2018 than it was in 2015 for that team."
      ]
    },
    {
      "cell_type": "code",
      "metadata": {
        "id": "MSNDkwDU7XVJ"
      },
      "source": [
        ""
      ],
      "execution_count": 14,
      "outputs": []
    },
    {
      "cell_type": "markdown",
      "metadata": {
        "id": "-jK74LnC7XVK"
      },
      "source": [
        "#### Exercise 5: Calculate the correlation between each year with the following year. That is $\\rho_{2015, 2016}, \\rho_{2016, 2017}, \\rho_{2017, 2018}$"
      ]
    },
    {
      "cell_type": "code",
      "metadata": {
        "id": "R6KChetC7XVK"
      },
      "source": [
        ""
      ],
      "execution_count": 15,
      "outputs": []
    },
    {
      "cell_type": "markdown",
      "metadata": {
        "id": "Kj364SrH7XVL"
      },
      "source": [
        "#### Exercise 6: Turn `df_wide` back into a \"long\" dataset"
      ]
    },
    {
      "cell_type": "code",
      "metadata": {
        "id": "PjH9fjcD7XVL"
      },
      "source": [
        ""
      ],
      "execution_count": 19,
      "outputs": []
    },
    {
      "cell_type": "markdown",
      "metadata": {
        "id": "fBMTe51l7XVM"
      },
      "source": [
        "#### Exercise 7: Using df_long, create a faceted line plot of `HR/FB` rate on `year`. Color it by `team`, facet it by `division`, and choose the linetype according to the `increased` variable."
      ]
    },
    {
      "cell_type": "code",
      "metadata": {
        "id": "sSq60zyT7XVN"
      },
      "source": [
        ""
      ],
      "execution_count": 18,
      "outputs": []
    }
  ]
}