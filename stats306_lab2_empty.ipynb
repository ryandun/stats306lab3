{
  "nbformat": 4,
  "nbformat_minor": 0,
  "metadata": {
    "kernelspec": {
      "display_name": "R",
      "language": "R",
      "name": "ir"
    },
    "language_info": {
      "codemirror_mode": "r",
      "file_extension": ".r",
      "mimetype": "text/x-r-source",
      "name": "R",
      "pygments_lexer": "r",
      "version": "3.6.1"
    },
    "colab": {
      "name": "stats306_lab2_empty.ipynb",
      "provenance": [],
      "collapsed_sections": [
        "88Cx6XGtn44L",
        "-3OQRDmWn44i"
      ]
    }
  },
  "cells": [
    {
      "cell_type": "markdown",
      "metadata": {
        "id": "kkiJ5cXTn43z"
      },
      "source": [
        "# Lab 2: More ggplot and dplyr"
      ]
    },
    {
      "cell_type": "markdown",
      "metadata": {
        "id": "Uv9H3tAIn432"
      },
      "source": [
        "`YCH` stands for *Your Code Here*. Please write your own code in the places where you see `YCH`."
      ]
    },
    {
      "cell_type": "code",
      "metadata": {
        "scrolled": true,
        "id": "wrk4zNvPn433"
      },
      "source": [
        "library(tidyverse)"
      ],
      "execution_count": null,
      "outputs": []
    },
    {
      "cell_type": "code",
      "metadata": {
        "id": "C7ypMQ4Xn434"
      },
      "source": [
        "# randomly sampling a subset from dataset\n",
        "set.seed(1998)\n",
        "dm = diamonds %>% sample_n(1000)\n",
        "names(dm)\n",
        "summary(dm)"
      ],
      "execution_count": null,
      "outputs": []
    },
    {
      "cell_type": "markdown",
      "metadata": {
        "id": "hc0Poycin435"
      },
      "source": [
        "# ggplot"
      ]
    },
    {
      "cell_type": "markdown",
      "metadata": {
        "id": "QfsNav4Kn435"
      },
      "source": [
        "![Caption for the picture.](https://raw.githubusercontent.com/enesdilber/stats306_labs/master/lab2/graph1.png)"
      ]
    },
    {
      "cell_type": "code",
      "metadata": {
        "id": "XbLTkb5kn436"
      },
      "source": [
        "p1 = ggplot(dm) + \n",
        "    geom_point(aes(x, price, color = cut)) + \n",
        "    facet_wrap(~clarity, ncol=4)\n",
        "print(p1)"
      ],
      "execution_count": null,
      "outputs": []
    },
    {
      "cell_type": "markdown",
      "metadata": {
        "id": "0Kn2X-2Vn436"
      },
      "source": [
        "## Geometric objects\n",
        "So far we have plotted the points in a fundamental manner. We might be interested in trends of the data that we have."
      ]
    },
    {
      "cell_type": "code",
      "metadata": {
        "id": "OWawiD5rn437"
      },
      "source": [
        "p2 = ggplot(dm) +\n",
        "    geom_point(aes(x, price)) + # don't necessarily have to specify x = ..., y = ...\n",
        "    geom_smooth(aes(x, price))\n",
        "print(p2)\n",
        "# notice the default method used by geom_smooth()"
      ],
      "execution_count": null,
      "outputs": []
    },
    {
      "cell_type": "markdown",
      "metadata": {
        "id": "nz0sGhByn438"
      },
      "source": [
        "### Exercise 1\n",
        "In the above fit, use locally weighted scatterplot smoother (\"loess\") instead of general additive model (\"gam\", the automatic smoothing method for n >= 1000). (see documentation)"
      ]
    },
    {
      "cell_type": "code",
      "metadata": {
        "id": "9M6fJnhYn438"
      },
      "source": [
        "?geom_smooth\n",
        "p3 = ggplot(dm) + \n",
        "    geom_point(YCH) + \n",
        "    geom_smooth(YCH)\n",
        "p3"
      ],
      "execution_count": null,
      "outputs": []
    },
    {
      "cell_type": "markdown",
      "metadata": {
        "id": "5hE5YKXcn439"
      },
      "source": [
        "### Exercise 2.1 \n",
        "Fit a linear line."
      ]
    },
    {
      "cell_type": "code",
      "metadata": {
        "id": "s8SyuZo3n439"
      },
      "source": [
        "p4 = ggplot(dm) + \n",
        "    geom_point(YCH) + \n",
        "    geom_smooth(YCH)\n",
        "p4"
      ],
      "execution_count": null,
      "outputs": []
    },
    {
      "cell_type": "markdown",
      "metadata": {
        "id": "wJ1cmpFYn44A"
      },
      "source": [
        "### Exercise 2.2\n",
        "Make separate linear lines for each category of the clarity variable. "
      ]
    },
    {
      "cell_type": "code",
      "metadata": {
        "id": "9cCJa8Tjn44B"
      },
      "source": [
        "p4 = ggplot(dm) + \n",
        "    geom_point(YCH) + \n",
        "    geom_smooth(YCH)\n",
        "p4"
      ],
      "execution_count": null,
      "outputs": []
    },
    {
      "cell_type": "markdown",
      "metadata": {
        "id": "T7cVNKYsn44C"
      },
      "source": [
        "### Exercise 3\n",
        "How to reduce the code duplication above? \"(x=x, y=price)\" is in both lines. "
      ]
    },
    {
      "cell_type": "code",
      "metadata": {
        "id": "-nOkRYKSn44C"
      },
      "source": [
        "p5 = ggplot(YCH) + \n",
        "    geom_point() +    \n",
        "    geom_smooth(method = \"lm\", se = F)\n",
        "p5"
      ],
      "execution_count": null,
      "outputs": []
    },
    {
      "cell_type": "markdown",
      "metadata": {
        "id": "Bg6slC8yn44D"
      },
      "source": [
        "### Some other parameters"
      ]
    },
    {
      "cell_type": "code",
      "metadata": {
        "id": "GzFsf-g7n44E"
      },
      "source": [
        "?geom_smooth\n",
        "p6 = ggplot(dm, aes(x, price, color = clarity)) + \n",
        "    geom_point(show.legend=FALSE ) + \n",
        "    geom_smooth(method = \"lm\", se = T, show.legend=FALSE ) #+ theme(legend.position = \"none\")\n",
        "p6"
      ],
      "execution_count": null,
      "outputs": []
    },
    {
      "cell_type": "markdown",
      "metadata": {
        "id": "MRnfCpn3n44F"
      },
      "source": [
        "1. What does show.legend=FALSE do? \n",
        "2. What does the se argument in geom_smooth do?"
      ]
    },
    {
      "cell_type": "markdown",
      "metadata": {
        "id": "2ruE1xQhn44F"
      },
      "source": [
        "### Homework (You don't need to turn it in)\n",
        "1. What geom would you use to draw a line chart with these data? A boxplot? A histogram? An area chart?\n",
        "2. Think about this code in your head and predict what the output will look like. Then, run the code in R and check your predicions.\n"
      ]
    },
    {
      "cell_type": "code",
      "metadata": {
        "id": "KC_07le4n44G"
      },
      "source": [
        "# Boxplot\n",
        "\n",
        "# Histogram\n",
        "\n",
        "# Area Chart\n",
        "\n",
        "# Hint: try Googling ggplot2 cheatsheet!"
      ],
      "execution_count": null,
      "outputs": []
    },
    {
      "cell_type": "markdown",
      "metadata": {
        "id": "4x_kxqdLn44G"
      },
      "source": [
        "## Statistical transformations\n",
        "Many graphs, like scatterplots, plot the raw values of your dataset. Other graphs, like bar charts, calculate new values to plot.\n",
        "\n",
        "You can learn which stat a geom uses by inspecting the default value for the 'stat' argument. For example, ?geom_bar shows that the default value for stat is 'count', which means that geom_bar() uses stat_count().\n",
        "\n",
        "stat_count() is documented on the same page as geom_bar(), and if you scroll down you can find a section called \"computed variables.\" That describes how it computes two new variables: count and prop.\n",
        "\n",
        "Let's use the following case where we override the default stat and instead want to use a value within the dataset of the y-axis (instead of a count).\n"
      ]
    },
    {
      "cell_type": "code",
      "metadata": {
        "id": "N21n1THfn44H"
      },
      "source": [
        "?geom_bar"
      ],
      "execution_count": null,
      "outputs": []
    },
    {
      "cell_type": "code",
      "metadata": {
        "id": "YKSzEJOZn44H"
      },
      "source": [
        "popn <- tribble(\n",
        "~city, ~population,\n",
        "\"Istanbul\", 15029231,\n",
        "\"Moscow\", 12615279,\n",
        "\"Saint Petersburg\", 9126366,\n",
        "\"Berlin\", 5383890,\n",
        "\"Madrid\", 3748148\n",
        ")\n",
        "popn"
      ],
      "execution_count": null,
      "outputs": []
    },
    {
      "cell_type": "markdown",
      "metadata": {
        "id": "kaaumqiCn44I"
      },
      "source": [
        "![Caption for the picture.](https://raw.githubusercontent.com/enesdilber/stats306_labs/master/lab2/graph5.png)"
      ]
    },
    {
      "cell_type": "code",
      "metadata": {
        "id": "5M5oN8dVn44I"
      },
      "source": [
        "ggplot(YCH) + \n",
        "    geom_col() + YCH # don't forget to add a title!"
      ],
      "execution_count": null,
      "outputs": []
    },
    {
      "cell_type": "code",
      "metadata": {
        "id": "0n-mOcHin44J"
      },
      "source": [
        "ggplot(data = dm) + \n",
        "    geom_bar(mapping = aes(x=cut, y=..prop.., group  = 1))"
      ],
      "execution_count": null,
      "outputs": []
    },
    {
      "cell_type": "markdown",
      "metadata": {
        "id": "KJD3Tk0Cn44J"
      },
      "source": [
        "Other times, you want to draw greater attention to the statistical transformation in your code. For example, you might use stat_summary() which summarises the y values for each unique x value, to draw attention to the summary that you're computing:"
      ]
    },
    {
      "cell_type": "markdown",
      "metadata": {
        "id": "onBTMX9VZ7dE"
      },
      "source": [
        "![Screen Shot 2021-01-31 at 9.24.05 PM.png](data:image/png;base64,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)"
      ]
    },
    {
      "cell_type": "code",
      "metadata": {
        "id": "rH1hmPTDn44K"
      },
      "source": [
        "ggplot(data = dm, aes(cut, depth)) + \n",
        "    stat_summary(fun = mean, fun.min = min, fun.max = max, size = .3)"
      ],
      "execution_count": null,
      "outputs": []
    },
    {
      "cell_type": "markdown",
      "metadata": {
        "id": "88Cx6XGtn44L"
      },
      "source": [
        "### Things to think about:\n",
        "\n",
        "1. What is the default geom associated with stat_summary()? How could you rewrite the previous plot to use that geom function instead of the stat function?\n",
        "2. What does geom_col() do? How is it different to geom_bar()?\n",
        "3. Most geoms and stats come in pairs that are almost always used in concert. Read through the documentation and make a list of all the pairs. What do they have in common?\n",
        "4. What variables does stat_smooth() compute? What parameters control its behaviour?\n",
        "6. In our proportion bar chart, we need to set group = 1. Why?"
      ]
    },
    {
      "cell_type": "markdown",
      "metadata": {
        "id": "aiVeDYjIn44M"
      },
      "source": [
        "## Position adjustments"
      ]
    },
    {
      "cell_type": "code",
      "metadata": {
        "id": "uMJ8pK7mn44M"
      },
      "source": [
        "# Difference between color and fill\n",
        "ggplot(data = diamonds, aes(x = cut, color = cut)) + \n",
        "  geom_bar()\n",
        "ggplot(data = diamonds) + \n",
        "  geom_bar(mapping = aes(x = cut, fill = cut))"
      ],
      "execution_count": null,
      "outputs": []
    },
    {
      "cell_type": "markdown",
      "metadata": {
        "id": "c2MeUfzCn44N"
      },
      "source": [
        "Remember that we can \"color by\" a different variable - in this case, clarity. By default, it stacks the bars for each clarity level. This is done using the positional adjustment specified by the position argument of geom_bar. If you don't want a stacked bar chart, you can use one of three other options: \"identity\", \"dodge\", or \"fill\"."
      ]
    },
    {
      "cell_type": "markdown",
      "metadata": {
        "id": "HZQHT5YWn44N"
      },
      "source": [
        "![Caption for the picture.](https://raw.githubusercontent.com/enesdilber/stats306_labs/master/lab2/graph7.png)"
      ]
    },
    {
      "cell_type": "code",
      "metadata": {
        "id": "c71KNV5Qn44O"
      },
      "source": [
        "ggplot(data = dm, aes(x = cut)) + \n",
        "  geom_bar(aes(fill = clarity))"
      ],
      "execution_count": null,
      "outputs": []
    },
    {
      "cell_type": "markdown",
      "metadata": {
        "id": "mMzLcIkIn44O"
      },
      "source": [
        "*position = \"fill\"*\n",
        "\n",
        "This works like stacking, but makes each set of stacked bars the same height. This makes it easier to compare proportions across groups."
      ]
    },
    {
      "cell_type": "code",
      "metadata": {
        "id": "SBTcczpun44P"
      },
      "source": [
        "ggplot(data = dm) + \n",
        "  geom_bar(mapping = aes(x = cut, fill = clarity), position = \"fill\")"
      ],
      "execution_count": null,
      "outputs": []
    },
    {
      "cell_type": "markdown",
      "metadata": {
        "id": "_dPvqDoin44Q"
      },
      "source": [
        "*position = 'dodge'*\n",
        "\n",
        "This places overlapping objects directly beside one another, which makes it easier to compare individual values."
      ]
    },
    {
      "cell_type": "markdown",
      "metadata": {
        "id": "1E97VcRNn44Q"
      },
      "source": [
        "![Caption for the picture.](https://raw.githubusercontent.com/enesdilber/stats306_labs/master/lab2/graph10.png)"
      ]
    },
    {
      "cell_type": "code",
      "metadata": {
        "id": "2FHS6s4Gn44Q"
      },
      "source": [
        "ggplot(data = dm) + \n",
        "  geom_bar(YCH)"
      ],
      "execution_count": null,
      "outputs": []
    },
    {
      "cell_type": "markdown",
      "metadata": {
        "id": "5xGNyZTkn44R"
      },
      "source": [
        "A positional adjustment that is very useful for scatterplots with overlaps is the 'jitter' argument."
      ]
    },
    {
      "cell_type": "code",
      "metadata": {
        "id": "TUYT15zjn44R"
      },
      "source": [
        "ggplot(data = dm) + \n",
        "  geom_point(mapping = aes(x = cut, y = price))\n",
        "\n",
        "ggplot(data = dm) + \n",
        "  geom_point(mapping = aes(x = cut, y = price), position = \"jitter\")"
      ],
      "execution_count": null,
      "outputs": []
    },
    {
      "cell_type": "markdown",
      "metadata": {
        "id": "HoxSTstMn44S"
      },
      "source": [
        "### Things to think about:\n",
        "1. What parameters to geom_jitter() control the amount of jittering?\n",
        "2. Compare and contrast geom_jitter() with geom_count().\n",
        "\n",
        "# dplyr for data manipulation"
      ]
    },
    {
      "cell_type": "code",
      "metadata": {
        "id": "jzGeFv82n44S"
      },
      "source": [
        "dim(dm)\n",
        "head(dm)"
      ],
      "execution_count": null,
      "outputs": []
    },
    {
      "cell_type": "markdown",
      "metadata": {
        "id": "flvPX9xFn44T"
      },
      "source": [
        "Notice the abreviations under the column names. Can you guess what 'dbl', 'ord', and 'int' are?\n",
        "\n",
        "\n",
        "Notice how the levels below follow an order. Indeed, we expect Fair < Good < Very Good < Premium < Ideal."
      ]
    },
    {
      "cell_type": "code",
      "metadata": {
        "id": "j_M798-pn44T"
      },
      "source": [
        "print(levels(dm$cut))\n",
        "print(levels(dm$color))\n",
        "print(levels(dm$clarity))"
      ],
      "execution_count": null,
      "outputs": []
    },
    {
      "cell_type": "code",
      "metadata": {
        "id": "ZHIGdhjjn44U"
      },
      "source": [
        "sizes = c(\"M\", \"S\", \"S\", \"M\", \"XL\", \"XXL\", \"XL\", \"S\", \"M\", \"L\")\n",
        "levels(as.factor(sizes))"
      ],
      "execution_count": null,
      "outputs": []
    },
    {
      "cell_type": "code",
      "metadata": {
        "id": "ZPkpeFX4n44U"
      },
      "source": [
        "sizes = ordered(sizes, levels = c(\"S\", \"M\", \"L\", \"XL\", \"XXL\"))\n",
        "levels(sizes)"
      ],
      "execution_count": null,
      "outputs": []
    },
    {
      "cell_type": "markdown",
      "metadata": {
        "id": "dkaqoVsFn44X"
      },
      "source": [
        "There are five functions in dplyr: filter, arrange, select, mutate and summarise. All of them have the following properties:\n",
        "1. The first argument is a data frame.\n",
        "2. The subsequent arguments describe what to do with the data frame, using the variable names (without quotes).\n",
        "3. The result is a new data frame."
      ]
    },
    {
      "cell_type": "markdown",
      "metadata": {
        "id": "HuCiWwdHn44X"
      },
      "source": [
        "## Filter\n",
        "Used if you want to view or store a new dataset containing a subset of the full dataset."
      ]
    },
    {
      "cell_type": "code",
      "metadata": {
        "id": "XVWvb8X0n44Y"
      },
      "source": [
        "filter(dm, cut == 'Fair', color == 'J')"
      ],
      "execution_count": null,
      "outputs": []
    },
    {
      "cell_type": "markdown",
      "metadata": {
        "id": "csG2l6e7n44Y"
      },
      "source": [
        "Usually you want to store the newly subsetted data in memory. "
      ]
    },
    {
      "cell_type": "code",
      "metadata": {
        "id": "6bzVznJXn44Z"
      },
      "source": [
        "worst_diamonds = filter(dm, cut == 'Fair', color == 'J')"
      ],
      "execution_count": null,
      "outputs": []
    },
    {
      "cell_type": "markdown",
      "metadata": {
        "id": "AKMzBEaIn44Z"
      },
      "source": [
        "Make sure to use '==' instead of '='. The former is to test equality while the latter is for assignments. "
      ]
    },
    {
      "cell_type": "code",
      "metadata": {
        "id": "m7OV6gKAn44a"
      },
      "source": [
        "4 == 6\n",
        "test = 6\n",
        "test\n",
        "test == 5\n"
      ],
      "execution_count": null,
      "outputs": []
    },
    {
      "cell_type": "markdown",
      "metadata": {
        "id": "UXuM72zVn44a"
      },
      "source": [
        "## Filtering on conditions"
      ]
    },
    {
      "cell_type": "code",
      "metadata": {
        "id": "7VpAEq_Kn44c"
      },
      "source": [
        "a = filter(dm, color == 'D' | cut == 'Fair') \n",
        "# filtering for rows that satisfy one or both of the conditions\n",
        "\n",
        "b = filter(dm, color == 'D' & cut == 'Fair') \n",
        "# filtering for rows that satisfy both conditions\n",
        "\n",
        "c = filter(dm, xor(color == 'D', cut == 'Fair')) \n",
        "# filtering for rows that satisfy exactly one condition\n",
        "\n",
        "best_cuts = filter(dm, cut == 'Ideal')\n",
        "# filtering using membership condition\n",
        "\n",
        "not_worst_cuts = filter(dm, cut != \"Fair\")\n",
        "# can do this because cut is an ordinal variable"
      ],
      "execution_count": null,
      "outputs": []
    },
    {
      "cell_type": "code",
      "metadata": {
        "id": "sF5MNVlvn44c"
      },
      "source": [
        "not_worst_cuts[1:20,]"
      ],
      "execution_count": null,
      "outputs": []
    },
    {
      "cell_type": "markdown",
      "metadata": {
        "id": "c7Uc3E-on44d"
      },
      "source": [
        "In R, if you want to find if a variable's value is missing, use the is.na() function. In particular, do not check for equality with NA:"
      ]
    },
    {
      "cell_type": "code",
      "metadata": {
        "id": "guRYLG27n44d"
      },
      "source": [
        "x = 4\n",
        "x == NA\n",
        "is.na(x)"
      ],
      "execution_count": null,
      "outputs": []
    },
    {
      "cell_type": "markdown",
      "metadata": {
        "id": "B2sBMwgPn44e"
      },
      "source": [
        "Similarly, never put an equality condition with NA in your dplyr filter() statements."
      ]
    },
    {
      "cell_type": "code",
      "metadata": {
        "id": "naq94pPfn44g"
      },
      "source": [
        "# create a dataframe\n",
        "df = tibble(x = c(1, NA, 3))\n",
        "print(df)"
      ],
      "execution_count": null,
      "outputs": []
    },
    {
      "cell_type": "code",
      "metadata": {
        "id": "0S8XR-Nhn44h"
      },
      "source": [
        "filter(df, x==NA)"
      ],
      "execution_count": null,
      "outputs": []
    },
    {
      "cell_type": "code",
      "metadata": {
        "id": "mRljk8dan44h"
      },
      "source": [
        "filter(df, is.na(x) | x > 1)"
      ],
      "execution_count": null,
      "outputs": []
    },
    {
      "cell_type": "markdown",
      "metadata": {
        "id": "-3OQRDmWn44i"
      },
      "source": [
        "### Homework (Don't turn this in though!!!)\n",
        "1. Write code using filter that will allow you to output diamonds with colors D or E and cuts Good or Very Good.\n",
        "2. Write code using filter that wil allow you to output diamonds with even-numbered prices."
      ]
    },
    {
      "cell_type": "markdown",
      "metadata": {
        "id": "fO1wv6nqn44j"
      },
      "source": [
        "## Arrange\n",
        "Useful for ordering rows instead of filtering for a subset of them"
      ]
    },
    {
      "cell_type": "code",
      "metadata": {
        "id": "_f7a6cTXn44j"
      },
      "source": [
        "arrange(dm, clarity, color)[1:20,] "
      ],
      "execution_count": null,
      "outputs": []
    },
    {
      "cell_type": "markdown",
      "metadata": {
        "id": "6GVApQBNn44k"
      },
      "source": [
        "Missing values are always sorted at the end:"
      ]
    },
    {
      "cell_type": "code",
      "metadata": {
        "id": "1kzIOk8Bn44k"
      },
      "source": [
        "df = tibble(x = c(5, NA, 2))\n",
        "arrange(df, x)"
      ],
      "execution_count": null,
      "outputs": []
    },
    {
      "cell_type": "code",
      "metadata": {
        "id": "nohrSchRn44l"
      },
      "source": [
        "arrange(df, desc(x))"
      ],
      "execution_count": null,
      "outputs": []
    },
    {
      "cell_type": "markdown",
      "metadata": {
        "id": "GH8caFgon44l"
      },
      "source": [
        "### Exercise\n",
        "1. Use arrange to sort the dm dataset by describing order of the product of the x, y, and z variables. Output the first 20 rows of the new dataset."
      ]
    },
    {
      "cell_type": "code",
      "metadata": {
        "id": "ouWRF8NimXx6"
      },
      "source": [
        "arrange(dm, desc(YCH))[1:20,] "
      ],
      "execution_count": null,
      "outputs": []
    },
    {
      "cell_type": "markdown",
      "metadata": {
        "id": "XROr0z2XmlxU"
      },
      "source": [
        "## Select\n",
        "This is used to reduce the number of columns that we're dealing with."
      ]
    },
    {
      "cell_type": "code",
      "metadata": {
        "id": "fNf6LB5Mn44m"
      },
      "source": [
        "names(dm)"
      ],
      "execution_count": null,
      "outputs": []
    },
    {
      "cell_type": "code",
      "metadata": {
        "id": "_6DHU-rPn44m"
      },
      "source": [
        "select(dm, carat, price)[1:20,]"
      ],
      "execution_count": null,
      "outputs": []
    },
    {
      "cell_type": "code",
      "metadata": {
        "id": "Vm56ocNtn44n"
      },
      "source": [
        "select(dm, carat:price)[1:20,]"
      ],
      "execution_count": null,
      "outputs": []
    },
    {
      "cell_type": "code",
      "metadata": {
        "id": "5vh9hcLCn44n"
      },
      "source": [
        "select(dm, -(carat:price))[1:20,]"
      ],
      "execution_count": null,
      "outputs": []
    },
    {
      "cell_type": "markdown",
      "metadata": {
        "id": "ZaNuSBy2n44n"
      },
      "source": [
        "Use rename(), which is a variant of select(), to rename a column and keep all the variables that aren't explicitly mentioned:"
      ]
    },
    {
      "cell_type": "code",
      "metadata": {
        "id": "7lGtcai5n44o"
      },
      "source": [
        "rename(dm, width=x)[1:20,]"
      ],
      "execution_count": null,
      "outputs": []
    },
    {
      "cell_type": "code",
      "metadata": {
        "id": "_DuiDIJ0n44o"
      },
      "source": [
        "select(dm, width = x)[1:20,]"
      ],
      "execution_count": null,
      "outputs": []
    },
    {
      "cell_type": "markdown",
      "metadata": {
        "id": "N5gFqg6un44o"
      },
      "source": [
        "Another option is to use select() in conjunction with the everything() helper. This is useful if you have a handful of variables you would like to move to the start of the dtaframe"
      ]
    },
    {
      "cell_type": "code",
      "metadata": {
        "id": "h61bZq5qn44p"
      },
      "source": [
        "select(dm, price, carat, everything())[1:20,]"
      ],
      "execution_count": null,
      "outputs": []
    },
    {
      "cell_type": "markdown",
      "metadata": {
        "id": "9soNGv9bn44p"
      },
      "source": [
        "There are some helper functions for select():\n",
        "    starts_with(),\n",
        "    ends_with(),\n",
        "    contains()\n",
        "    \n",
        "### Exercise:\n",
        "1. Write code that wil have price as the first column and the columns starting with the letter 'c' as the following columns. Output the first 20 rows of such a datset.\n"
      ]
    },
    {
      "cell_type": "code",
      "metadata": {
        "id": "Nxp30x4_nWZh"
      },
      "source": [
        "select(dm, YCH)[1:20,]"
      ],
      "execution_count": null,
      "outputs": []
    },
    {
      "cell_type": "markdown",
      "metadata": {
        "id": "FbdL5Zd7nWzZ"
      },
      "source": [
        "### Mutate\n",
        "to create a computed column:"
      ]
    },
    {
      "cell_type": "code",
      "metadata": {
        "id": "mgD7ixCIn44p"
      },
      "source": [
        "dm_dimensions = select(dm, -(carat:price))\n",
        "mutate(dm_dimensions, volume = x*y*z)[1:20,]"
      ],
      "execution_count": null,
      "outputs": []
    },
    {
      "cell_type": "markdown",
      "metadata": {
        "id": "CUYc3F3Bn44q"
      },
      "source": [
        "If you only want to keep the new variables, use transmute()"
      ]
    },
    {
      "cell_type": "code",
      "metadata": {
        "id": "i1Jzkt8jn44q"
      },
      "source": [
        "transmute(dm_dimensions, volume = x*y*z)[1:20,]"
      ],
      "execution_count": null,
      "outputs": []
    },
    {
      "cell_type": "markdown",
      "metadata": {
        "id": "hshd6Db9n44q"
      },
      "source": [
        "Read Section 5.5.1 in the book for some specific functions.\n",
        "\n",
        "\n",
        "## Summarise"
      ]
    },
    {
      "cell_type": "code",
      "metadata": {
        "id": "ZltUW7S4n44r"
      },
      "source": [
        "by_color = group_by(dm, color)\n",
        "summarise(by_color, avg_price = mean(price, na.rm = TRUE))"
      ],
      "execution_count": null,
      "outputs": []
    },
    {
      "cell_type": "code",
      "metadata": {
        "id": "rDVxU0Lin44r"
      },
      "source": [
        "head(mpg)"
      ],
      "execution_count": null,
      "outputs": []
    },
    {
      "cell_type": "code",
      "metadata": {
        "id": "ktv5p-zVn44r"
      },
      "source": [
        "mpg2 = mpg\n",
        "mpg2$year = as.factor(mpg$year) # telling it we're dealing with a category column\n",
        "mpg2 = mutate(mpg2, manual = (grepl('manual', trans))) # regexp\n",
        "head(mpg2)"
      ],
      "execution_count": null,
      "outputs": []
    },
    {
      "cell_type": "code",
      "metadata": {
        "id": "WQeZJ-fgn44s"
      },
      "source": [
        "by_maker_yr = group_by(mpg2, manufacturer, year)\n",
        "hwy_summary = summarise(by_maker_yr,\n",
        "                       count = n(),\n",
        "                       hwy = mean(hwy, na.rm = TRUE),\n",
        "                       cty = mean(cty, na.rm = TRUE))\n",
        "hwy_summary"
      ],
      "execution_count": null,
      "outputs": []
    },
    {
      "cell_type": "code",
      "metadata": {
        "id": "H2zI0wJQn44s"
      },
      "source": [
        "hwy_summary_ag = filter(hwy_summary, substring(manufacturer,1,1) %in% c('a','b','c','d','e','f','g'))\n",
        "hwy_summary_ag"
      ],
      "execution_count": null,
      "outputs": []
    },
    {
      "cell_type": "code",
      "metadata": {
        "scrolled": false,
        "id": "ZJIgQHdFn44t"
      },
      "source": [
        "ggplot(data = hwy_summary_ag, mapping = aes(x = cty, y = hwy)) + \n",
        "    geom_point(mapping = aes(color = manufacturer, shape = year))"
      ],
      "execution_count": null,
      "outputs": []
    },
    {
      "cell_type": "markdown",
      "metadata": {
        "id": "z_hbBk9Xn44t"
      },
      "source": [
        "## Pipes\n",
        "The transformations above can be written as:\n"
      ]
    },
    {
      "cell_type": "code",
      "metadata": {
        "id": "TChCOi3En44u"
      },
      "source": [
        "hwy_summary_ag2 = mpg2 %>% \n",
        "group_by(manufacturer, year) %>%\n",
        "summarise(\n",
        "    count = n(),\n",
        "    hwy = mean(hwy, na.rm = TRUE),\n",
        "    cty = mean(cty, na.rm = TRUE)) %>%\n",
        "filter(substring(manufacturer,1,1) %in% c('a','b','c','d','e','f','g'))"
      ],
      "execution_count": null,
      "outputs": []
    },
    {
      "cell_type": "code",
      "metadata": {
        "id": "1Qdjmtrhn44u"
      },
      "source": [
        "hwy_summary_ag2"
      ],
      "execution_count": null,
      "outputs": []
    }
  ]
}