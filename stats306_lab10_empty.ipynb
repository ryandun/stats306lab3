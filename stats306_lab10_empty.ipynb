{
  "nbformat": 4,
  "nbformat_minor": 0,
  "metadata": {
    "kernelspec": {
      "display_name": "R",
      "language": "R",
      "name": "ir"
    },
    "language_info": {
      "codemirror_mode": "r",
      "file_extension": ".r",
      "mimetype": "text/x-r-source",
      "name": "R",
      "pygments_lexer": "r",
      "version": "3.6.1"
    },
    "colab": {
      "name": "stats306_lab10_solution.ipynb",
      "provenance": [],
      "collapsed_sections": []
    }
  },
  "cells": [
    {
      "cell_type": "markdown",
      "metadata": {
        "id": "N6qet7MQcfCt"
      },
      "source": [
        "# Lab 10: Lists, Loops, Functions, Mapping\n",
        "### Last lab of the semester! You did it!!!"
      ]
    },
    {
      "cell_type": "code",
      "metadata": {
        "id": "ydYGcQICcfCx"
      },
      "source": [
        "library(tidyverse)"
      ],
      "execution_count": 41,
      "outputs": []
    },
    {
      "cell_type": "markdown",
      "metadata": {
        "id": "kg-bXvYPcfCz"
      },
      "source": [
        "## Q1: List operations\n"
      ]
    },
    {
      "cell_type": "markdown",
      "metadata": {
        "id": "gb6izh8ccfCz"
      },
      "source": [
        "### 1. How does `[[.]]` differ from `[.]` when you are subsetting a list?"
      ]
    },
    {
      "cell_type": "code",
      "metadata": {
        "id": "RVkO6IPrcfC0"
      },
      "source": [
        "x = list(1,2,3)"
      ],
      "execution_count": 42,
      "outputs": []
    },
    {
      "cell_type": "code",
      "metadata": {
        "colab": {
          "base_uri": "https://localhost:8080/",
          "height": 77
        },
        "id": "ju_5iFLscfC1",
        "outputId": "4a2de067-b211-4fd9-ab7d-242058f07f99"
      },
      "source": [
        "x[1] # A slice from the list, still a list\n",
        "class(x[1]) "
      ],
      "execution_count": 43,
      "outputs": [
        {
          "output_type": "display_data",
          "data": {
            "text/plain": [
              "[[1]]\n",
              "[1] 1\n"
            ],
            "text/latex": "\\begin{enumerate}\n\\item 1\n\\end{enumerate}\n",
            "text/markdown": "1. 1\n\n\n",
            "text/html": [
              "<ol>\n",
              "\t<li>1</li>\n",
              "</ol>\n"
            ]
          },
          "metadata": {
            "tags": []
          }
        },
        {
          "output_type": "display_data",
          "data": {
            "text/plain": [
              "[1] \"list\""
            ],
            "text/latex": "'list'",
            "text/markdown": "'list'",
            "text/html": [
              "'list'"
            ]
          },
          "metadata": {
            "tags": []
          }
        }
      ]
    },
    {
      "cell_type": "code",
      "metadata": {
        "colab": {
          "base_uri": "https://localhost:8080/",
          "height": 49
        },
        "id": "CvwqJV8zcfC3",
        "outputId": "d1eb9fce-082b-4314-f132-87fe1c8dd83a"
      },
      "source": [
        "x[[1]] # Accessing first element of the list\n",
        "class(x[[1]])"
      ],
      "execution_count": 44,
      "outputs": [
        {
          "output_type": "display_data",
          "data": {
            "text/plain": [
              "[1] 1"
            ],
            "text/latex": "1",
            "text/markdown": "1",
            "text/html": [
              "1"
            ]
          },
          "metadata": {
            "tags": []
          }
        },
        {
          "output_type": "display_data",
          "data": {
            "text/plain": [
              "[1] \"numeric\""
            ],
            "text/latex": "'numeric'",
            "text/markdown": "'numeric'",
            "text/html": [
              "'numeric'"
            ]
          },
          "metadata": {
            "tags": []
          }
        }
      ]
    },
    {
      "cell_type": "markdown",
      "metadata": {
        "id": "JXGEwPE7cfC5"
      },
      "source": [
        "### 2. How do you extract the last value of an atomic vector?\n"
      ]
    },
    {
      "cell_type": "code",
      "metadata": {
        "colab": {
          "base_uri": "https://localhost:8080/",
          "height": 32
        },
        "id": "z4VpxCI9cfC6",
        "outputId": "ce7f1de2-e362-462c-a83d-5ec0deaa0aaf"
      },
      "source": [
        "x  = c(-3,-2,-1)\n",
        "x[length(x)]"
      ],
      "execution_count": 45,
      "outputs": [
        {
          "output_type": "display_data",
          "data": {
            "text/plain": [
              "[1] -1"
            ],
            "text/latex": "-1",
            "text/markdown": "-1",
            "text/html": [
              "-1"
            ]
          },
          "metadata": {
            "tags": []
          }
        }
      ]
    },
    {
      "cell_type": "markdown",
      "metadata": {
        "id": "hnQSQot3cfC7"
      },
      "source": [
        "### 3. How do you extract every value but the last value of an atomic vector?"
      ]
    },
    {
      "cell_type": "code",
      "metadata": {
        "colab": {
          "base_uri": "https://localhost:8080/",
          "height": 32
        },
        "id": "LFlURBAMcfC8",
        "outputId": "16759856-c03b-4a4d-f802-023d4ee1b4af"
      },
      "source": [
        "x[-length(x)]"
      ],
      "execution_count": 46,
      "outputs": [
        {
          "output_type": "display_data",
          "data": {
            "text/plain": [
              "[1] -3 -2"
            ],
            "text/latex": "\\begin{enumerate*}\n\\item -3\n\\item -2\n\\end{enumerate*}\n",
            "text/markdown": "1. -3\n2. -2\n\n\n",
            "text/html": [
              "<style>\n",
              ".list-inline {list-style: none; margin:0; padding: 0}\n",
              ".list-inline>li {display: inline-block}\n",
              ".list-inline>li:not(:last-child)::after {content: \"\\00b7\"; padding: 0 .5ex}\n",
              "</style>\n",
              "<ol class=list-inline><li>-3</li><li>-2</li></ol>\n"
            ]
          },
          "metadata": {
            "tags": []
          }
        }
      ]
    },
    {
      "cell_type": "markdown",
      "metadata": {
        "id": "vu41qw2vcfC9"
      },
      "source": [
        "### 4. Why is `x[-which(x > 0)]` not the same as `x[x <= 0]` where `x` is an atomic vector?"
      ]
    },
    {
      "cell_type": "code",
      "metadata": {
        "colab": {
          "base_uri": "https://localhost:8080/"
        },
        "id": "GA16oQ6icfC9",
        "outputId": "cc2ed73a-6cca-48b2-da2a-7c54616526ef"
      },
      "source": [
        "print(x[-which(x > 0)])\n",
        "print(x[x<=0])"
      ],
      "execution_count": 47,
      "outputs": [
        {
          "output_type": "stream",
          "text": [
            "numeric(0)\n",
            "[1] -3 -2 -1\n"
          ],
          "name": "stdout"
        }
      ]
    },
    {
      "cell_type": "code",
      "metadata": {
        "colab": {
          "base_uri": "https://localhost:8080/",
          "height": 16
        },
        "id": "BNniw3WKcfC_",
        "outputId": "b0e423ad-1055-42c1-ccee-6f92e6d990b0"
      },
      "source": [
        "which(x > 0) # returns empty "
      ],
      "execution_count": 48,
      "outputs": [
        {
          "output_type": "display_data",
          "data": {
            "text/plain": [
              "integer(0)"
            ],
            "text/latex": "",
            "text/markdown": "",
            "text/html": [
              ""
            ]
          },
          "metadata": {
            "tags": []
          }
        }
      ]
    },
    {
      "cell_type": "code",
      "metadata": {
        "colab": {
          "base_uri": "https://localhost:8080/",
          "height": 32
        },
        "id": "tH0AAKflcfDB",
        "outputId": "c3753982-29e7-4ea2-88ae-0fde4d32c030"
      },
      "source": [
        "x<=0"
      ],
      "execution_count": 49,
      "outputs": [
        {
          "output_type": "display_data",
          "data": {
            "text/plain": [
              "[1] TRUE TRUE TRUE"
            ],
            "text/latex": "\\begin{enumerate*}\n\\item TRUE\n\\item TRUE\n\\item TRUE\n\\end{enumerate*}\n",
            "text/markdown": "1. TRUE\n2. TRUE\n3. TRUE\n\n\n",
            "text/html": [
              "<style>\n",
              ".list-inline {list-style: none; margin:0; padding: 0}\n",
              ".list-inline>li {display: inline-block}\n",
              ".list-inline>li:not(:last-child)::after {content: \"\\00b7\"; padding: 0 .5ex}\n",
              "</style>\n",
              "<ol class=list-inline><li>TRUE</li><li>TRUE</li><li>TRUE</li></ol>\n"
            ]
          },
          "metadata": {
            "tags": []
          }
        }
      ]
    },
    {
      "cell_type": "markdown",
      "metadata": {
        "id": "jr7jWqxIcfDC"
      },
      "source": [
        "It would work if `which` condition is not empty!"
      ]
    },
    {
      "cell_type": "code",
      "metadata": {
        "colab": {
          "base_uri": "https://localhost:8080/"
        },
        "id": "F8a5M_CfcfDC",
        "outputId": "2854810c-39e8-4561-d3c7-9fc223f2fef2"
      },
      "source": [
        "x  = c(-3,-2,-1, 1)\n",
        "print(x[-which(x > 0)])\n",
        "print(x[x<=0])"
      ],
      "execution_count": 50,
      "outputs": [
        {
          "output_type": "stream",
          "text": [
            "[1] -3 -2 -1\n",
            "[1] -3 -2 -1\n"
          ],
          "name": "stdout"
        }
      ]
    },
    {
      "cell_type": "markdown",
      "metadata": {
        "id": "hOldyLyccfDE"
      },
      "source": [
        "## Q2: While Loops: \n",
        "\n",
        "### 1. Generate random numbers from Normal(0, 1) and stop when you have more positive values than negatives. Write a function that implements above algortihm and returns number of iterations.\n",
        "Algorithm:\n",
        "1. set pc = 0 and nc = 0\n",
        "1. Generate Y~Normal(0,1)\n",
        "1. If Y>0 then pc = pc+1 otherwise nc = nc+1\n",
        "1. Repeat 2-3 until pc>nc"
      ]
    },
    {
      "cell_type": "code",
      "metadata": {
        "id": "wtIydqaGcfDF"
      },
      "source": [
        "f = function(){\n",
        "    \n",
        "    \n",
        "}"
      ],
      "execution_count": 51,
      "outputs": []
    },
    {
      "cell_type": "code",
      "metadata": {
        "colab": {
          "base_uri": "https://localhost:8080/",
          "height": 32
        },
        "id": "9_0WF__0cfDF",
        "outputId": "c791c550-6cd8-409c-b59a-395e0496f2c5"
      },
      "source": [
        "f()"
      ],
      "execution_count": 52,
      "outputs": [
        {
          "output_type": "display_data",
          "data": {
            "text/plain": [
              "NULL"
            ]
          },
          "metadata": {
            "tags": []
          }
        }
      ]
    },
    {
      "cell_type": "markdown",
      "metadata": {
        "id": "VxChNllscfDG"
      },
      "source": [
        "### 2. Call this function 100 times"
      ]
    },
    {
      "cell_type": "code",
      "metadata": {
        "id": "88Kr6hcYcfDH"
      },
      "source": [
        "# x = map_dbl(1:100, ~f())\n",
        "# x"
      ],
      "execution_count": 53,
      "outputs": []
    },
    {
      "cell_type": "markdown",
      "metadata": {
        "id": "1913Ur-5cfDI"
      },
      "source": [
        "## Q3: For Loops"
      ]
    },
    {
      "cell_type": "markdown",
      "metadata": {
        "id": "aK7zewNDcfDJ"
      },
      "source": [
        "### 1. Compute the mean of every column in mtcars with na.rm argument being true"
      ]
    },
    {
      "cell_type": "code",
      "metadata": {
        "id": "rQxcyUtKcfDK"
      },
      "source": [
        ""
      ],
      "execution_count": 54,
      "outputs": []
    },
    {
      "cell_type": "code",
      "metadata": {
        "colab": {
          "base_uri": "https://localhost:8080/",
          "height": 49
        },
        "id": "p6ieFKcCgvzS",
        "outputId": "964f6dd0-313e-4c64-a72c-577790cf1d53"
      },
      "source": [
        "seq_along(mtcars)\n",
        "1:ncol(mtcars)"
      ],
      "execution_count": 55,
      "outputs": [
        {
          "output_type": "display_data",
          "data": {
            "text/plain": [
              " [1]  1  2  3  4  5  6  7  8  9 10 11"
            ],
            "text/latex": "\\begin{enumerate*}\n\\item 1\n\\item 2\n\\item 3\n\\item 4\n\\item 5\n\\item 6\n\\item 7\n\\item 8\n\\item 9\n\\item 10\n\\item 11\n\\end{enumerate*}\n",
            "text/markdown": "1. 1\n2. 2\n3. 3\n4. 4\n5. 5\n6. 6\n7. 7\n8. 8\n9. 9\n10. 10\n11. 11\n\n\n",
            "text/html": [
              "<style>\n",
              ".list-inline {list-style: none; margin:0; padding: 0}\n",
              ".list-inline>li {display: inline-block}\n",
              ".list-inline>li:not(:last-child)::after {content: \"\\00b7\"; padding: 0 .5ex}\n",
              "</style>\n",
              "<ol class=list-inline><li>1</li><li>2</li><li>3</li><li>4</li><li>5</li><li>6</li><li>7</li><li>8</li><li>9</li><li>10</li><li>11</li></ol>\n"
            ]
          },
          "metadata": {
            "tags": []
          }
        },
        {
          "output_type": "display_data",
          "data": {
            "text/plain": [
              " [1]  1  2  3  4  5  6  7  8  9 10 11"
            ],
            "text/latex": "\\begin{enumerate*}\n\\item 1\n\\item 2\n\\item 3\n\\item 4\n\\item 5\n\\item 6\n\\item 7\n\\item 8\n\\item 9\n\\item 10\n\\item 11\n\\end{enumerate*}\n",
            "text/markdown": "1. 1\n2. 2\n3. 3\n4. 4\n5. 5\n6. 6\n7. 7\n8. 8\n9. 9\n10. 10\n11. 11\n\n\n",
            "text/html": [
              "<style>\n",
              ".list-inline {list-style: none; margin:0; padding: 0}\n",
              ".list-inline>li {display: inline-block}\n",
              ".list-inline>li:not(:last-child)::after {content: \"\\00b7\"; padding: 0 .5ex}\n",
              "</style>\n",
              "<ol class=list-inline><li>1</li><li>2</li><li>3</li><li>4</li><li>5</li><li>6</li><li>7</li><li>8</li><li>9</li><li>10</li><li>11</li></ol>\n"
            ]
          },
          "metadata": {
            "tags": []
          }
        }
      ]
    },
    {
      "cell_type": "markdown",
      "metadata": {
        "id": "06eIqz-YcfDL"
      },
      "source": [
        "### 2. Determine the type of each column of iris\n"
      ]
    },
    {
      "cell_type": "code",
      "metadata": {
        "id": "4jlMOV-CcfDM"
      },
      "source": [
        ""
      ],
      "execution_count": 56,
      "outputs": []
    },
    {
      "cell_type": "markdown",
      "metadata": {
        "id": "MQvcy2z2cfDM"
      },
      "source": [
        "### 3. Compute the number of unique values in each column of iris."
      ]
    },
    {
      "cell_type": "code",
      "metadata": {
        "id": "RBxPLMd4cfDN"
      },
      "source": [
        ""
      ],
      "execution_count": 57,
      "outputs": []
    },
    {
      "cell_type": "markdown",
      "metadata": {
        "id": "DcZ1xshucfDO"
      },
      "source": [
        "## Q4: repeat Q3 with map functions rather than loops and apply:"
      ]
    },
    {
      "cell_type": "code",
      "metadata": {
        "colab": {
          "base_uri": "https://localhost:8080/",
          "height": 82
        },
        "id": "Zbw1dsV9cfDP",
        "outputId": "0af76a02-6d12-4858-8724-b58a9fb00db5"
      },
      "source": [
        "map_dbl(mtcars, mean, na.rm = T)\n",
        "\n",
        "map_chr(iris, typeof)\n",
        "\n",
        "map_int(iris, ~ length(unique(.)))"
      ],
      "execution_count": 58,
      "outputs": [
        {
          "output_type": "display_data",
          "data": {
            "text/plain": [
              "       mpg        cyl       disp         hp       drat         wt       qsec \n",
              " 20.090625   6.187500 230.721875 146.687500   3.596563   3.217250  17.848750 \n",
              "        vs         am       gear       carb \n",
              "  0.437500   0.406250   3.687500   2.812500 "
            ],
            "text/latex": "\\begin{description*}\n\\item[mpg] 20.090625\n\\item[cyl] 6.1875\n\\item[disp] 230.721875\n\\item[hp] 146.6875\n\\item[drat] 3.5965625\n\\item[wt] 3.21725\n\\item[qsec] 17.84875\n\\item[vs] 0.4375\n\\item[am] 0.40625\n\\item[gear] 3.6875\n\\item[carb] 2.8125\n\\end{description*}\n",
            "text/markdown": "mpg\n:   20.090625cyl\n:   6.1875disp\n:   230.721875hp\n:   146.6875drat\n:   3.5965625wt\n:   3.21725qsec\n:   17.84875vs\n:   0.4375am\n:   0.40625gear\n:   3.6875carb\n:   2.8125\n\n",
            "text/html": [
              "<style>\n",
              ".dl-inline {width: auto; margin:0; padding: 0}\n",
              ".dl-inline>dt, .dl-inline>dd {float: none; width: auto; display: inline-block}\n",
              ".dl-inline>dt::after {content: \":\\0020\"; padding-right: .5ex}\n",
              ".dl-inline>dt:not(:first-of-type) {padding-left: .5ex}\n",
              "</style><dl class=dl-inline><dt>mpg</dt><dd>20.090625</dd><dt>cyl</dt><dd>6.1875</dd><dt>disp</dt><dd>230.721875</dd><dt>hp</dt><dd>146.6875</dd><dt>drat</dt><dd>3.5965625</dd><dt>wt</dt><dd>3.21725</dd><dt>qsec</dt><dd>17.84875</dd><dt>vs</dt><dd>0.4375</dd><dt>am</dt><dd>0.40625</dd><dt>gear</dt><dd>3.6875</dd><dt>carb</dt><dd>2.8125</dd></dl>\n"
            ]
          },
          "metadata": {
            "tags": []
          }
        },
        {
          "output_type": "display_data",
          "data": {
            "text/plain": [
              "Sepal.Length  Sepal.Width Petal.Length  Petal.Width      Species \n",
              "    \"double\"     \"double\"     \"double\"     \"double\"    \"integer\" "
            ],
            "text/latex": "\\begin{description*}\n\\item[Sepal.Length] 'double'\n\\item[Sepal.Width] 'double'\n\\item[Petal.Length] 'double'\n\\item[Petal.Width] 'double'\n\\item[Species] 'integer'\n\\end{description*}\n",
            "text/markdown": "Sepal.Length\n:   'double'Sepal.Width\n:   'double'Petal.Length\n:   'double'Petal.Width\n:   'double'Species\n:   'integer'\n\n",
            "text/html": [
              "<style>\n",
              ".dl-inline {width: auto; margin:0; padding: 0}\n",
              ".dl-inline>dt, .dl-inline>dd {float: none; width: auto; display: inline-block}\n",
              ".dl-inline>dt::after {content: \":\\0020\"; padding-right: .5ex}\n",
              ".dl-inline>dt:not(:first-of-type) {padding-left: .5ex}\n",
              "</style><dl class=dl-inline><dt>Sepal.Length</dt><dd>'double'</dd><dt>Sepal.Width</dt><dd>'double'</dd><dt>Petal.Length</dt><dd>'double'</dd><dt>Petal.Width</dt><dd>'double'</dd><dt>Species</dt><dd>'integer'</dd></dl>\n"
            ]
          },
          "metadata": {
            "tags": []
          }
        },
        {
          "output_type": "display_data",
          "data": {
            "text/plain": [
              "Sepal.Length  Sepal.Width Petal.Length  Petal.Width      Species \n",
              "          35           23           43           22            3 "
            ],
            "text/latex": "\\begin{description*}\n\\item[Sepal.Length] 35\n\\item[Sepal.Width] 23\n\\item[Petal.Length] 43\n\\item[Petal.Width] 22\n\\item[Species] 3\n\\end{description*}\n",
            "text/markdown": "Sepal.Length\n:   35Sepal.Width\n:   23Petal.Length\n:   43Petal.Width\n:   22Species\n:   3\n\n",
            "text/html": [
              "<style>\n",
              ".dl-inline {width: auto; margin:0; padding: 0}\n",
              ".dl-inline>dt, .dl-inline>dd {float: none; width: auto; display: inline-block}\n",
              ".dl-inline>dt::after {content: \":\\0020\"; padding-right: .5ex}\n",
              ".dl-inline>dt:not(:first-of-type) {padding-left: .5ex}\n",
              "</style><dl class=dl-inline><dt>Sepal.Length</dt><dd>35</dd><dt>Sepal.Width</dt><dd>23</dd><dt>Petal.Length</dt><dd>43</dd><dt>Petal.Width</dt><dd>22</dd><dt>Species</dt><dd>3</dd></dl>\n"
            ]
          },
          "metadata": {
            "tags": []
          }
        }
      ]
    },
    {
      "cell_type": "markdown",
      "metadata": {
        "id": "Rrp2weT7cfDP"
      },
      "source": [
        "## Q5: Writing functions (recursions):"
      ]
    },
    {
      "cell_type": "markdown",
      "metadata": {
        "id": "EDnH1dkccfDR"
      },
      "source": [
        "Factorials: $n! = n(n-1)(n-2)\\dots1$\\\n",
        "factorial(n) = n*factorial(n-1)\\\n",
        "Base case: factorial(0) = 1"
      ]
    },
    {
      "cell_type": "code",
      "metadata": {
        "id": "BqxuLaJRcfDS"
      },
      "source": [
        "factorial = function(n){\n",
        "    if(n == 0){\n",
        "        return(1)\n",
        "    }else{\n",
        "        return(n*factorial(n-1))\n",
        "    }\n",
        "}"
      ],
      "execution_count": 59,
      "outputs": []
    },
    {
      "cell_type": "code",
      "metadata": {
        "colab": {
          "base_uri": "https://localhost:8080/",
          "height": 32
        },
        "id": "jwNSoNXbcfDT",
        "outputId": "d7689e80-233f-4103-8cb8-860e0d65d65c"
      },
      "source": [
        "factorial(20)"
      ],
      "execution_count": 65,
      "outputs": [
        {
          "output_type": "display_data",
          "data": {
            "text/plain": [
              "[1] 2.432902e+18"
            ],
            "text/latex": "2432902008176640000",
            "text/markdown": "2432902008176640000",
            "text/html": [
              "2432902008176640000"
            ]
          },
          "metadata": {
            "tags": []
          }
        }
      ]
    },
    {
      "cell_type": "markdown",
      "metadata": {
        "id": "wzL6GRZ0cfDT"
      },
      "source": [
        "### 1. Suppose Joe wants to climb n stairs, at each step, Joe can climb 1 stair or 2 stairs; write a function to find out many different ways are there for Joe to climb n stairs. Example: if n=3, then Joe has 3 ways: (1,1,1), (1,2), and (2,1)."
      ]
    },
    {
      "cell_type": "markdown",
      "metadata": {
        "id": "W_ZCqWKCcfDU"
      },
      "source": [
        "If there are 10 stairs initially after 1 step there could be 9 or 8 stairs ahead. So the process restarts with 9 or 8 stair after one step. Let's suppose we have a function that calculates number of differen ways, call this function `nways`, `nways(10) = nways(9) + nways(8)`. In general `nways(n) = nways(n-1)+nways(n-2)`. How about if only 1 step left? Then there is just 1 way to climb it so `nways(1) = 1`. If it is 2 then, It can be (1,1) or (2). Therefore `nways(2) = 2` and `nways(1) =  1`"
      ]
    },
    {
      "cell_type": "code",
      "metadata": {
        "id": "rZtSgFErcfDV"
      },
      "source": [
        ""
      ],
      "execution_count": 61,
      "outputs": []
    },
    {
      "cell_type": "code",
      "metadata": {
        "id": "2TyDikktkMVl"
      },
      "source": [
        "# say n = 4\n",
        "# n != 1 \n",
        "# n != 2\n",
        "# return nways(3) + nways(2)\n",
        "  # return (nways(2) + nways(1)) + 2\n",
        "    # return (2 + 1) + 2 = 5\n",
        "# nways(4)"
      ],
      "execution_count": 62,
      "outputs": []
    }
  ]
}